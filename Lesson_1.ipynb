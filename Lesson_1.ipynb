{
  "cells": [
    {
      "cell_type": "markdown",
      "metadata": {
        "id": "89mFQmjdo1gZ"
      },
      "source": [
        "# Вебинар 1. Введение, примеры задач, бизнес- и ML-метрики "
      ]
    },
    {
      "cell_type": "markdown",
      "metadata": {
        "id": "unhHnld719xK"
      },
      "source": [
        "# Домашнее задание \n",
        "\n",
        "**1) Приведите еще примеры метрик для оценки рекомендаций/ранжирования (можно взять из интернета, или ваши знания)**\n",
        "\n",
        "**2) Доделать все функции, где стоит комментарий \"сделать дома\"**"
      ]
    },
    {
      "cell_type": "markdown",
      "metadata": {
        "id": "MJZwT8cSo1gi"
      },
      "source": [
        "-----"
      ]
    },
    {
      "cell_type": "markdown",
      "metadata": {
        "id": "R0sRGFuXo1gk"
      },
      "source": [
        "# 1. Введение и примеры задач"
      ]
    },
    {
      "cell_type": "markdown",
      "metadata": {
        "id": "p4hQIpZ6o1gr"
      },
      "source": [
        "---"
      ]
    },
    {
      "cell_type": "markdown",
      "metadata": {
        "id": "EC6MY2VHo1gs"
      },
      "source": [
        "##  Постановка задачи\n",
        "\n",
        "*Задача рекомендаций* - предложить пользователю товары, которые ему \"понравятся\"\n",
        "\n",
        "Компоненты:\n",
        "    - Пользователи (users)\n",
        "    - Товары (items)\n",
        "    - Взаимодействия (interactions) - по ним понимаем, что товар \"понравился\""
      ]
    },
    {
      "cell_type": "markdown",
      "metadata": {
        "id": "9vjcDtI4o1gt"
      },
      "source": [
        "---"
      ]
    },
    {
      "cell_type": "markdown",
      "metadata": {
        "id": "8VrZhsIbo1ha"
      },
      "source": [
        "# ML-mетрики качества"
      ]
    },
    {
      "cell_type": "markdown",
      "metadata": {
        "id": "0dnPDNLYo1hc"
      },
      "source": [
        "*Хороши ли рекомендации, предлагаемые моделью?*  \n",
        "Обычно считаются для каждого юзера, затем усредняются по юзерам"
      ]
    },
    {
      "cell_type": "markdown",
      "metadata": {
        "id": "VrlXLSNao1he"
      },
      "source": [
        "Представим, что в магазине всего 10 товаров"
      ]
    },
    {
      "cell_type": "code",
      "source": [
        "import numpy as np"
      ],
      "metadata": {
        "id": "7oKPXNRt6vux"
      },
      "execution_count": 1,
      "outputs": []
    },
    {
      "cell_type": "code",
      "execution_count": 2,
      "metadata": {
        "id": "bxqcDo_vo1hh"
      },
      "outputs": [],
      "source": [
        "recommended_list = [143, 5231, 11341, 9911, 27, 1543, 3345, 533, 11, 43] #id товаров\n",
        "bought_list = [143, 523, 1134, 991, 1, 2]"
      ]
    },
    {
      "cell_type": "markdown",
      "metadata": {
        "id": "IZ6mlwcSo1hn"
      },
      "source": [
        "### 1. Hit rate\n",
        "\n",
        "Hit rate = был ли хотя бы 1 релевантный товар среди рекомендованных\n",
        "\n",
        "- Иногда применяется, когда продаются достаточно дорогие товары (например, бытовая техника) \n",
        "\n",
        "----\n",
        "Hit rate = (был ли хотя бы 1 релевантный товар среди рекомендованных)   \n",
        "\n",
        "Hit rate@k = (был ли хотя бы 1 релевантный товар среди топ-k рекомендованных)"
      ]
    },
    {
      "cell_type": "code",
      "execution_count": 3,
      "metadata": {
        "id": "yypViRYN19xC"
      },
      "outputs": [],
      "source": [
        "def hit_rate(recommended_list, bought_list):\n",
        "    \n",
        "    bought_list = np.array(bought_list)\n",
        "    recommended_list = np.array(recommended_list)\n",
        "    \n",
        "    flags = np.isin(bought_list, recommended_list)\n",
        "    \n",
        "    hit_rate = (flags.sum() > 0) * 1\n",
        "    \n",
        "    return hit_rate\n",
        "\n",
        "\n",
        "def hit_rate_at_k(recommended_list, bought_list, k=5):\n",
        "    \n",
        "    bought_list = np.array(bought_list)\n",
        "    recommended_list = np.array(recommended_list[:k])\n",
        "    \n",
        "    flags = np.isin(bought_list, recommended_list)\n",
        "    \n",
        "    hit_rate = (flags.sum() > 0) * 1\n",
        "    \n",
        "    return hit_rate"
      ]
    },
    {
      "cell_type": "code",
      "execution_count": 4,
      "metadata": {
        "id": "cQXLlorio1hs",
        "outputId": "c290dc07-9426-4b3d-8e80-e5e4ab84e4eb",
        "colab": {
          "base_uri": "https://localhost:8080/"
        }
      },
      "outputs": [
        {
          "output_type": "execute_result",
          "data": {
            "text/plain": [
              "1"
            ]
          },
          "metadata": {},
          "execution_count": 4
        }
      ],
      "source": [
        "hit_rate(recommended_list, bought_list)"
      ]
    },
    {
      "cell_type": "code",
      "source": [
        "hit_rate_at_k(recommended_list, bought_list, k=5)"
      ],
      "metadata": {
        "colab": {
          "base_uri": "https://localhost:8080/"
        },
        "id": "rvfYMUG-2uTv",
        "outputId": "e0173ec9-2959-4359-a230-0f17db42b8c7"
      },
      "execution_count": 5,
      "outputs": [
        {
          "output_type": "execute_result",
          "data": {
            "text/plain": [
              "1"
            ]
          },
          "metadata": {},
          "execution_count": 5
        }
      ]
    },
    {
      "cell_type": "markdown",
      "metadata": {
        "id": "iwXCUigno1hy"
      },
      "source": [
        "### 2. Precision\n",
        "\n",
        "*Precision* - доля релевантных товаров среди рекомендованных = Какой % рекомендованных товаров  юзер купил\n",
        "\n",
        "- Пожалуй, самая приближенная к бизнес-метрикам и самая популярная метрика\n",
        "\n",
        "---\n",
        "\n",
        "Precision= (# of recommended items that are relevant) / (# of recommended items)  \n",
        "\n",
        "Precision@k = (# of recommended items @k that are relevant) / (# of recommended items @k)\n",
        "\n",
        "Money Precision@k = (revenue of recommended items @k that are relevant) / (revenue of recommended items @k)  \n",
        "\n",
        "**Note:** Обычно k в precision@k достаточно невелико (5-20) и определяется из бизнес-логики. Например, 5 товаров в e-mail рассылке, 20 ответов на первой странице google и т.д"
      ]
    },
    {
      "cell_type": "markdown",
      "metadata": {
        "id": "WvSzvvmMo1hz"
      },
      "source": [
        "Красная рыба - 400 руб  \n",
        "Молоко - 60 руб  \n",
        "Хлеб = 40 руб  \n",
        "Гречка = 40 руб  \n",
        "Шоколад = 90 руб  \n",
        "\n",
        "------  \n",
        "Варенье - 240 руб  \n",
        "...  \n",
        "\n",
        "**Case 1**  \n",
        "prices_resommended = [400, 60, 40, 40 , 90]  \n",
        "flags = [1, 0, 0, 0 , 1]  \n",
        "\n",
        "$precison@5 = \\frac{1 + 0 + 0 +0 + 1}{1+1+1+1+1} = 40\\%$  \n",
        "$money precision@5 = \\frac{1*400 + 0*60 + ... + 1*90}{1*400 + 1*60 + ... + 1*90} = 77.7\\%$  \n",
        "\n",
        "  \n",
        "**Case 2**   \n",
        "prices_resommended = [400, 60, 40, 40 , 90]  \n",
        "flags = [0, 1, 0, 0 , 1]  \n",
        "\n",
        "$precison@5 = \\frac{0 + 1 + 0 +0 + 1}{1+1+1+1+1} = 40\\%$  \n",
        "$money precision@5 = \\frac{0*400 + 1*60 + ... + 1*90}{1*400 + 1*60 + ... + 1*90} = 15.8\\%$"
      ]
    },
    {
      "cell_type": "code",
      "execution_count": 6,
      "metadata": {
        "id": "jK1kNSEG19xD"
      },
      "outputs": [],
      "source": [
        "recommended_list = [143, 156, 1134, 991, 27, 1543, 3345, 533, 11, 43] #id товаров\n",
        "bought_list = [521, 32, 143, 991]"
      ]
    },
    {
      "cell_type": "code",
      "execution_count": 7,
      "metadata": {
        "id": "-SNwOJM519xD"
      },
      "outputs": [],
      "source": [
        "def precision(recommended_list, bought_list):\n",
        "    \n",
        "    bought_list = np.array(bought_list)\n",
        "    recommended_list = np.array(recommended_list)\n",
        "    \n",
        "    flags = np.isin(bought_list, recommended_list)\n",
        "    \n",
        "    precision = flags.sum() / len(recommended_list)\n",
        "    \n",
        "    return precision\n",
        "\n",
        "\n",
        "def precision_at_k(recommended_list, bought_list, k=5):\n",
        "    \n",
        "    bought_list = np.array(bought_list)\n",
        "    recommended_list = np.array(recommended_list)\n",
        "    \n",
        "    bought_list = bought_list  # Тут нет [:k] !!\n",
        "    recommended_list = recommended_list[:k]\n",
        "    \n",
        "    flags = np.isin(bought_list, recommended_list)\n",
        "    \n",
        "    precision = flags.sum() / len(recommended_list)\n",
        "    \n",
        "    \n",
        "    return precision\n",
        "\n",
        "\n",
        "def money_precision_at_k(recommended_list, bought_list, prices_recommended, k=5):\n",
        "        \n",
        "    bought_list = np.array(bought_list)\n",
        "    recommended_list = np.array(recommended_list)\n",
        "    \n",
        "    bought_list = bought_list\n",
        "    recommended_list = recommended_list[:k]\n",
        "    prices_recommended_list =prices_recommended[:k]\n",
        "    \n",
        "    flags = np.isin(recommended_list, bought_list)\n",
        "    \n",
        "    precision = sum(flags * prices_recommended_list) / sum(prices_recommended_list)\n",
        "    \n",
        "    return precision"
      ]
    },
    {
      "cell_type": "code",
      "execution_count": 8,
      "metadata": {
        "id": "rfL2QSH1o1h5",
        "outputId": "7477d4b5-e0bb-40dc-8704-5d952d6bce27",
        "colab": {
          "base_uri": "https://localhost:8080/"
        }
      },
      "outputs": [
        {
          "output_type": "execute_result",
          "data": {
            "text/plain": [
              "0.2"
            ]
          },
          "metadata": {},
          "execution_count": 8
        }
      ],
      "source": [
        "precision(recommended_list, bought_list)"
      ]
    },
    {
      "cell_type": "code",
      "execution_count": 9,
      "metadata": {
        "id": "35CJV2C7o1iB",
        "outputId": "c75f63ee-4c5b-44a7-9e57-31959cf98c76",
        "colab": {
          "base_uri": "https://localhost:8080/"
        }
      },
      "outputs": [
        {
          "output_type": "execute_result",
          "data": {
            "text/plain": [
              "0.3333333333333333"
            ]
          },
          "metadata": {},
          "execution_count": 9
        }
      ],
      "source": [
        "precision_at_k(recommended_list, bought_list, k=3)"
      ]
    },
    {
      "cell_type": "code",
      "source": [
        "prices_recommended = [100, 90, 10, 450, 50, 37, 99, 120, 34, 100]"
      ],
      "metadata": {
        "id": "UJh2bCjw3RJQ"
      },
      "execution_count": 10,
      "outputs": []
    },
    {
      "cell_type": "code",
      "source": [
        "money_precision_at_k(recommended_list, bought_list, prices_recommended, k=5)"
      ],
      "metadata": {
        "colab": {
          "base_uri": "https://localhost:8080/"
        },
        "id": "lf__HtcM3Gk5",
        "outputId": "434ab9a8-803b-45d5-ed0e-be9b2611bcb8"
      },
      "execution_count": 11,
      "outputs": [
        {
          "output_type": "execute_result",
          "data": {
            "text/plain": [
              "0.7857142857142857"
            ]
          },
          "metadata": {},
          "execution_count": 11
        }
      ]
    },
    {
      "cell_type": "markdown",
      "metadata": {
        "id": "NfVd3dnCo1iN"
      },
      "source": [
        "### 3. Recall\n",
        "\n",
        "*Recall* - доля рекомендованных товаров среди релевантных = Какой % купленных товаров был среди рекомендованных\n",
        "\n",
        "- Обычно используется для моделей пре-фильтрации товаров (убрать те товары, которые точно не будем рекомендовать)\n",
        "\n",
        "---\n",
        "\n",
        "Recall= (# of recommended items that are relevant) / (# of relevant items)  \n",
        "\n",
        "Recall@k = (# of recommended items @k that are relevant) / (# of relevant items)\n",
        "\n",
        "Money Recall@k = (revenue of recommended items @k that are relevant) / (revenue of relevant items)  \n",
        "\n",
        "    \n",
        "  \n",
        "**Note:** в recall@k число k обычно достаточно большое (50-200), больше чем покупок у среднестатистического юзера"
      ]
    },
    {
      "cell_type": "code",
      "execution_count": 12,
      "metadata": {
        "id": "T1XhLZZj19xE"
      },
      "outputs": [],
      "source": [
        "def recall(recommended_list, bought_list):\n",
        "    \n",
        "    bought_list = np.array(bought_list)\n",
        "    recommended_list = np.array(recommended_list)\n",
        "    \n",
        "    flags = np.isin(bought_list, recommended_list)\n",
        "    \n",
        "    recall = flags.sum() / len(bought_list)\n",
        "    \n",
        "    return recall\n",
        "\n",
        "\n",
        "def recall_at_k(recommended_list, bought_list, k=5):\n",
        "    \n",
        "    bought_list = np.array(bought_list)\n",
        "    recommended_list = np.array(recommended_list[:k])\n",
        "    \n",
        "    flags = np.isin(bought_list, recommended_list)\n",
        "    \n",
        "    recall = flags.sum() / len(bought_list)\n",
        "    \n",
        "    return recall\n",
        "\n",
        "\n",
        "def money_recall_at_k(recommended_list, bought_list, prices_recommended, prices_bought, k=5):\n",
        "    \n",
        "    bought_list = np.array(bought_list)\n",
        "    recommended_list = np.array(recommended_list[:k])\n",
        "    prices_recommended_list =prices_recommended[:k]\n",
        "    prices_bought_list = prices_bought\n",
        "    \n",
        "    flags = np.isin(recommended_list, bought_list)\n",
        "    \n",
        "    recall = sum(flags * prices_recommended_list)  / sum(prices_bought_list)\n",
        "    \n",
        "    return recall"
      ]
    },
    {
      "cell_type": "code",
      "execution_count": 13,
      "metadata": {
        "id": "kd4I_xqvo1iX",
        "outputId": "9c6c7e8f-2ef3-48fa-8fc6-62e4639b9dda",
        "colab": {
          "base_uri": "https://localhost:8080/"
        }
      },
      "outputs": [
        {
          "output_type": "execute_result",
          "data": {
            "text/plain": [
              "0.5"
            ]
          },
          "metadata": {},
          "execution_count": 13
        }
      ],
      "source": [
        "recall(recommended_list, bought_list)"
      ]
    },
    {
      "cell_type": "code",
      "execution_count": 14,
      "metadata": {
        "colab": {
          "base_uri": "https://localhost:8080/"
        },
        "id": "IYVax2Dy19xE",
        "outputId": "a28314bd-4b74-4e4b-c6a4-4c2acba216e5"
      },
      "outputs": [
        {
          "output_type": "execute_result",
          "data": {
            "text/plain": [
              "0.5"
            ]
          },
          "metadata": {},
          "execution_count": 14
        }
      ],
      "source": [
        "recall_at_k(recommended_list,bought_list,k=10)"
      ]
    },
    {
      "cell_type": "code",
      "source": [
        "prices_bought = [110, 190, 100, 450]"
      ],
      "metadata": {
        "id": "7HJ2HyRc3vHC"
      },
      "execution_count": 15,
      "outputs": []
    },
    {
      "cell_type": "code",
      "source": [
        "money_recall_at_k(recommended_list, bought_list, prices_recommended, prices_bought, k=5)"
      ],
      "metadata": {
        "colab": {
          "base_uri": "https://localhost:8080/"
        },
        "id": "IEGI2UrH3ixB",
        "outputId": "15d0bfbf-c590-44b7-ca57-ad6cc641e3e4"
      },
      "execution_count": 16,
      "outputs": [
        {
          "output_type": "execute_result",
          "data": {
            "text/plain": [
              "0.6470588235294118"
            ]
          },
          "metadata": {},
          "execution_count": 16
        }
      ]
    },
    {
      "cell_type": "markdown",
      "metadata": {
        "id": "A-9Go3EOo1ib"
      },
      "source": [
        "---"
      ]
    },
    {
      "cell_type": "markdown",
      "metadata": {
        "id": "p06Ri8-go1ic"
      },
      "source": [
        "# Метрики ранжирования"
      ]
    },
    {
      "cell_type": "markdown",
      "metadata": {
        "id": "lY1Dz0CV19xF"
      },
      "source": [
        "Metrics: https://en.wikipedia.org/wiki/Evaluation_measures_(information_retrieval)"
      ]
    },
    {
      "cell_type": "markdown",
      "metadata": {
        "id": "Rnd4DCp5o1id"
      },
      "source": [
        "Если важен порядок рекомендаций."
      ]
    },
    {
      "cell_type": "markdown",
      "metadata": {
        "id": "F95YT0wwo1id"
      },
      "source": [
        "## AP@k\n",
        "AP@k - average precision at k\n",
        "\n",
        "$$AP@k = \\frac{1}{r} \\sum{[recommended_{relevant_i}] * precision@k}$$\n",
        "\n",
        "- r - кол-во релевантный среди рекомендованных\n",
        "- Суммируем по всем релевантным товарам\n",
        "- Зависит от порядка реокмендаций"
      ]
    },
    {
      "cell_type": "code",
      "execution_count": 17,
      "metadata": {
        "id": "1c4iTbyx19xF"
      },
      "outputs": [],
      "source": [
        "recommended_list = [221,2,3234,1,234,234,234,666] #id товаров\n",
        "bought_list = [1,2,3,4,5,6,7,8,9]"
      ]
    },
    {
      "cell_type": "code",
      "execution_count": 18,
      "metadata": {
        "id": "Lqycr9PT19xF"
      },
      "outputs": [],
      "source": [
        "def ap_k(recommended_list, bought_list, k=5):\n",
        "    \n",
        "    bought_list = np.array(bought_list)\n",
        "    recommended_list = np.array(recommended_list)[:k]\n",
        "    \n",
        "    relevant_indexes = np.nonzero(np.isin(recommended_list, bought_list))[0]\n",
        "    \n",
        "    if len(relevant_indexes) == 0:\n",
        "        return 0\n",
        "    \n",
        "    amount_relevant = len(relevant_indexes)\n",
        "    \n",
        "    sum_ = sum([precision_at_k(recommended_list, bought_list, k=index_relevant+1) for index_relevant in relevant_indexes])\n",
        "    return sum_/amount_relevant\n",
        "  \n",
        "    "
      ]
    },
    {
      "cell_type": "code",
      "execution_count": 19,
      "metadata": {
        "id": "rG8jmtYA19xF"
      },
      "outputs": [],
      "source": [
        "bought_list = np.array(bought_list)"
      ]
    },
    {
      "cell_type": "code",
      "execution_count": 20,
      "metadata": {
        "colab": {
          "base_uri": "https://localhost:8080/"
        },
        "id": "XroDjjVG19xF",
        "outputId": "e3bf8c54-5744-4520-a1d6-3c27c4a041c5"
      },
      "outputs": [
        {
          "output_type": "execute_result",
          "data": {
            "text/plain": [
              "array([1, 2, 3, 4, 5, 6, 7, 8, 9])"
            ]
          },
          "metadata": {},
          "execution_count": 20
        }
      ],
      "source": [
        "bought_list"
      ]
    },
    {
      "cell_type": "code",
      "execution_count": 21,
      "metadata": {
        "id": "KDTHJC4V19xG"
      },
      "outputs": [],
      "source": [
        "recommended_list = np.array(recommended_list)[:5]"
      ]
    },
    {
      "cell_type": "code",
      "execution_count": 22,
      "metadata": {
        "colab": {
          "base_uri": "https://localhost:8080/"
        },
        "id": "qgKwf6Sd19xG",
        "outputId": "a0348da7-f326-4af4-9d80-c78b5d93a02f"
      },
      "outputs": [
        {
          "output_type": "execute_result",
          "data": {
            "text/plain": [
              "array([ 221,    2, 3234,    1,  234])"
            ]
          },
          "metadata": {},
          "execution_count": 22
        }
      ],
      "source": [
        "recommended_list"
      ]
    },
    {
      "cell_type": "code",
      "execution_count": 23,
      "metadata": {
        "id": "g2QJoNfl19xG"
      },
      "outputs": [],
      "source": [
        "relevant_indexes = np.nonzero(np.isin(recommended_list, bought_list))[0]"
      ]
    },
    {
      "cell_type": "code",
      "execution_count": 24,
      "metadata": {
        "colab": {
          "base_uri": "https://localhost:8080/"
        },
        "id": "vkyW373D19xG",
        "outputId": "d9adc93d-3401-4426-9ca8-e906bdc036da"
      },
      "outputs": [
        {
          "output_type": "execute_result",
          "data": {
            "text/plain": [
              "array([1, 3])"
            ]
          },
          "metadata": {},
          "execution_count": 24
        }
      ],
      "source": [
        "relevant_indexes"
      ]
    },
    {
      "cell_type": "code",
      "execution_count": 25,
      "metadata": {
        "id": "0D6ZfpsN19xG"
      },
      "outputs": [],
      "source": [
        "amount_relevant = len(relevant_indexes)"
      ]
    },
    {
      "cell_type": "code",
      "execution_count": 26,
      "metadata": {
        "colab": {
          "base_uri": "https://localhost:8080/"
        },
        "id": "nwaJs-fj19xH",
        "outputId": "48cc06f1-a8a3-48dc-9cf7-aeecebf9b640"
      },
      "outputs": [
        {
          "output_type": "execute_result",
          "data": {
            "text/plain": [
              "2"
            ]
          },
          "metadata": {},
          "execution_count": 26
        }
      ],
      "source": [
        "amount_relevant"
      ]
    },
    {
      "cell_type": "code",
      "execution_count": 27,
      "metadata": {
        "colab": {
          "base_uri": "https://localhost:8080/"
        },
        "id": "Am5S-oML19xH",
        "outputId": "90faa246-e298-438e-9e7f-c9a430a60f92"
      },
      "outputs": [
        {
          "output_type": "execute_result",
          "data": {
            "text/plain": [
              "0.5"
            ]
          },
          "metadata": {},
          "execution_count": 27
        }
      ],
      "source": [
        "precision_at_k(recommended_list, bought_list, k=1+1)"
      ]
    },
    {
      "cell_type": "code",
      "execution_count": 28,
      "metadata": {
        "colab": {
          "base_uri": "https://localhost:8080/"
        },
        "id": "rMMbMLgZ19xH",
        "outputId": "6c1b9591-a76d-4243-bb1f-1c4f0602eb33"
      },
      "outputs": [
        {
          "output_type": "execute_result",
          "data": {
            "text/plain": [
              "0.5"
            ]
          },
          "metadata": {},
          "execution_count": 28
        }
      ],
      "source": [
        "ap_k(recommended_list, bought_list, k=5)"
      ]
    },
    {
      "cell_type": "markdown",
      "metadata": {
        "id": "GyKVp_A_o1ip"
      },
      "source": [
        "### MAP@k\n",
        "\n",
        "MAP@k (Mean Average Precision@k)  \n",
        "Среднее AP@k по всем юзерам\n",
        "- Показывает средневзвешенную точность рекомендаций\n",
        "\n",
        "$$MAP@k = \\frac{1}{|U|} \\sum_u{AP_k}$$\n",
        "  \n",
        "|U| - кол-во юзеров"
      ]
    },
    {
      "cell_type": "code",
      "execution_count": 29,
      "metadata": {
        "id": "v5NPE7yc19xH"
      },
      "outputs": [],
      "source": [
        "# теперь список из 3 пользователей\n",
        "recommended_list_3_users = [[143, 156, 1134, 991, 27, 1543, 3345, 533, 11, 43], \n",
        "                    [1134, 533, 14, 4, 15, 1543, 1, 99, 27, 3345],\n",
        "                    [991, 3345, 27, 533, 43, 143, 1543, 156, 1134, 11]\n",
        "                           ]\n",
        "\n",
        "bought_list_3_users = [[521, 32, 143],  # юзер 1\n",
        "                       [143, 156, 991, 43, 11], # юзер 2\n",
        "                       [1,2]] # юзер 3"
      ]
    },
    {
      "cell_type": "code",
      "execution_count": 30,
      "metadata": {
        "id": "heZq-3_Vo1iq"
      },
      "outputs": [],
      "source": [
        "def map_k(recommended_list, bought_list, k=5):\n",
        "    bought_list = np.array(bought_list)\n",
        "    recommended_list = np.array(recommended_list)[:k]\n",
        "    \n",
        "    relevant_indexes = np.nonzero(np.isin(recommended_list, bought_list))[0]\n",
        "    if len(relevant_indexes) == 0:\n",
        "        return 0\n",
        "    \n",
        "    amount_relevant = len(relevant_indexes)\n",
        "            \n",
        "    sum_ = sum([precision_at_k(recommended_list, bought_list, k=index_relevant+1) for index_relevant in relevant_indexes])\n",
        "    return sum_/amount_relevant"
      ]
    },
    {
      "cell_type": "code",
      "source": [
        "map_k(recommended_list, bought_list, k=5)"
      ],
      "metadata": {
        "colab": {
          "base_uri": "https://localhost:8080/"
        },
        "id": "9-AFvFOO5Shn",
        "outputId": "fd0e4803-b26b-441b-cdd9-91ea06db3b1c"
      },
      "execution_count": 31,
      "outputs": [
        {
          "output_type": "execute_result",
          "data": {
            "text/plain": [
              "0.5"
            ]
          },
          "metadata": {},
          "execution_count": 31
        }
      ]
    },
    {
      "cell_type": "markdown",
      "metadata": {
        "id": "Ziy893rxo1iw"
      },
      "source": [
        "### AUC@k\n",
        "AUC для первых k наблюдений  \n",
        "- Можно посчитать как sklern.metrics.roc_auc_score для топ-k предсказаний\n",
        "- Показывает долю верно отранжированных товаров"
      ]
    },
    {
      "cell_type": "markdown",
      "metadata": {
        "id": "-aRUBub7o1ix"
      },
      "source": [
        "### Normalized discounted cumulative gain ( NDCG@k)\n",
        "\n",
        "\n",
        "$$DCG = \\frac{1}{|r|} \\sum_u{\\frac{[bought fact]}{discount(i)}}$$  \n",
        "\n",
        "$discount(i) = i$ if $i <= 2$,   \n",
        "$discount(i) = log_2(i)$ if $i > 2$\n",
        "\n",
        "\n",
        "(!) Считаем для первых k рекоммендаций   \n",
        "(!) - существуют вариации с другими $discount(i)$  \n",
        "i - ранк рекомендованного товара  \n",
        "|r| - кол-во рекомендованных товаров \n",
        "\n",
        "$$NDCG = \\frac{DCG}{ideal DCG}$$\n"
      ]
    },
    {
      "cell_type": "code",
      "execution_count": 32,
      "metadata": {
        "colab": {
          "base_uri": "https://localhost:8080/"
        },
        "id": "6jdZPK7R19xI",
        "outputId": "62cb73c0-c476-4f71-b9ea-f863ee16f918"
      },
      "outputs": [
        {
          "output_type": "execute_result",
          "data": {
            "text/plain": [
              "(1, 0, 0, 1, 0)"
            ]
          },
          "metadata": {},
          "execution_count": 32
        }
      ],
      "source": [
        "1, 0, 0, 1, 0 "
      ]
    },
    {
      "cell_type": "markdown",
      "metadata": {
        "id": "zHpCD4lKo1i1"
      },
      "source": [
        "$DCG@5 = \\frac{1}{5}*(1 / 1 + 0 / 2 + 0 / log(3) + 1 / log(4) + 0 / log(5))$  \n",
        "$ideal DCG@5 = \\frac{1}{5}*(1 / 1 + 1 / 2 + 1 / log(3) + 1 / log(4) + 1 / log(5))$  \n",
        "\n",
        "$NDCG = \\frac{DCG}{ideal DCG}$"
      ]
    },
    {
      "cell_type": "code",
      "execution_count": 33,
      "metadata": {
        "id": "7OS8iARx19xI"
      },
      "outputs": [],
      "source": [
        "# по желанию\n",
        "def ndcg_at_k(recommended_list, bought_list, k=5):\n",
        "    recommended_list = recommended_list[:k]\n",
        "    if recommended_list[0] in bought_list:\n",
        "        dcg = 1\n",
        "    else: dcg = 0\n",
        "    for i in range(1, len(recommended_list)):\n",
        "        if recommended_list[i] in bought_list:\n",
        "            dcg += 1/np.log(i+1)\n",
        "       \n",
        "    idcg = 1\n",
        "    for i in range(1, k):\n",
        "        idcg += 1/np.log(i+1)  \n",
        "    ndcg = dcg / idcg\n",
        "    return ndcg"
      ]
    },
    {
      "cell_type": "code",
      "source": [
        "ndcg_at_k(recommended_list, bought_list, k=5)"
      ],
      "metadata": {
        "colab": {
          "base_uri": "https://localhost:8080/"
        },
        "id": "Q91Catpo5Zqe",
        "outputId": "b40eda70-1f5a-4e3d-c193-3c836b46cab0"
      },
      "execution_count": 34,
      "outputs": [
        {
          "output_type": "execute_result",
          "data": {
            "text/plain": [
              "0.4608643952890846"
            ]
          },
          "metadata": {},
          "execution_count": 34
        }
      ]
    },
    {
      "cell_type": "code",
      "execution_count": 35,
      "metadata": {
        "id": "o8DJdTeE19xI"
      },
      "outputs": [],
      "source": [
        "# теперь список из 3 пользователей\n",
        "recommended_list_3_users = [[143, 156, 1134, 991, 27, 1543, 3345, 533, 11, 43], \n",
        "                    [1134, 533, 14, 4, 15, 1543, 1, 99, 27, 3345],\n",
        "                    [991, 3345, 27, 533, 43, 143, 1543, 156, 1134, 11]\n",
        "                           ]\n",
        "\n",
        "bought_list_3_users = [[521, 32, 143],  # юзер 1\n",
        "                       [143, 156, 991, 43, 11], # юзер 2\n",
        "                       [1,2]] # юзер 3"
      ]
    },
    {
      "cell_type": "markdown",
      "metadata": {
        "id": "T7Y-Jtcdo1i6"
      },
      "source": [
        "### Mean Reciprocal Rank ( MRR@k )\n",
        "\n",
        "\n",
        "- Считаем для первых k рекоммендаций\n",
        "- Найти ранк первого релевантного предсказания $k_u$\n",
        "- Посчитать reciprocal rank = $\\frac{1}{k_u}$\n",
        "\n",
        "$$MRR = mean(\\frac{1}{k_u})$$"
      ]
    },
    {
      "cell_type": "code",
      "execution_count": 36,
      "metadata": {
        "id": "XW7SpfRK19xJ"
      },
      "outputs": [],
      "source": [
        "def reciprocal_rank(recommended_list, bought_list, k=1):\n",
        "    recommended_list = recommended_list[:k]\n",
        "    ranks = 0\n",
        "    for item_rec in recommended_list:\n",
        "        for i, item_bought in enumerate(bought_list):\n",
        "            if item_rec == item_bought:\n",
        "                ranks += 1 / (i+1)\n",
        "    return ranks / len(recommended_list)"
      ]
    },
    {
      "cell_type": "code",
      "source": [
        "reciprocal_rank(recommended_list, bought_list, k=5)"
      ],
      "metadata": {
        "colab": {
          "base_uri": "https://localhost:8080/"
        },
        "id": "HmVt-QYd4nl1",
        "outputId": "d62ef65f-77f7-47e2-f862-0358be95531d"
      },
      "execution_count": 37,
      "outputs": [
        {
          "output_type": "execute_result",
          "data": {
            "text/plain": [
              "0.3"
            ]
          },
          "metadata": {},
          "execution_count": 37
        }
      ]
    }
  ],
  "metadata": {
    "colab": {
      "name": "Lesson_1.ipynb",
      "provenance": []
    },
    "kernelspec": {
      "display_name": "Python 3 (ipykernel)",
      "language": "python",
      "name": "python3"
    },
    "language_info": {
      "codemirror_mode": {
        "name": "ipython",
        "version": 3
      },
      "file_extension": ".py",
      "mimetype": "text/x-python",
      "name": "python",
      "nbconvert_exporter": "python",
      "pygments_lexer": "ipython3",
      "version": "3.9.7"
    }
  },
  "nbformat": 4,
  "nbformat_minor": 0
}