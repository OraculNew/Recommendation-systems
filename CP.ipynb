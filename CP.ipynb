{
  "cells": [
    {
      "cell_type": "markdown",
      "id": "c4160d05",
      "metadata": {
        "id": "c4160d05"
      },
      "source": [
        "**Основное**\n",
        "- Дедлайн - 19 февраля 23:59\n",
        "- Целевая метрика precision@5\n",
        "- Бейзлайн решения - [MainRecommender](https://github.com/geangohn/recsys-tutorial/blob/master/src/recommenders.py)\n",
        "- Сдаем ссылку на github с решением. В решении должны быть отчетливо видна метрика на новом тестовом сете из файла retail_test1.csv, то есть вам нужно для всех юзеров из этого файла выдать выши рекомендации, и посчитать на actual покупках precision@5. \n",
        "\n",
        "**!! Мы не рассматриваем холодный старт для пользователя, все наши пользователя одинаковы во всех сетах, поэтому нужно позаботиться об их исключении из теста.**\n",
        "\n",
        "\n",
        "**Hints:** \n",
        "\n",
        "Сначала просто попробуйте разные параметры MainRecommender:  \n",
        "- N в топ-N товарах при формировании user-item матирцы (сейчас топ-5000)  \n",
        "- Различные веса в user-item матрице (0/1, кол-во покупок, log(кол-во покупок + 1), сумма покупки, ...)  \n",
        "- Разные взвешивания матрицы (TF-IDF, BM25 - у него есть параметры)  \n",
        "- Разные смешивания рекомендаций (обратите внимание на бейзлайн - прошлые покупки юзера)  \n",
        "\n",
        "Сделайте MVP - минимально рабочий продукт - (пусть даже top-popular), а потом его улучшайте\n",
        "\n",
        "Если вы делаете двухуровневую модель - следите за валидацией "
      ]
    },
    {
      "cell_type": "markdown",
      "id": "4c79fff5",
      "metadata": {
        "id": "4c79fff5"
      },
      "source": [
        "### Импорт модулей"
      ]
    },
    {
      "cell_type": "code",
      "source": [
        "!pip install -q condacolab\n",
        "import condacolab\n",
        "condacolab.install()"
      ],
      "metadata": {
        "colab": {
          "base_uri": "https://localhost:8080/"
        },
        "id": "5EffMy1E4m8o",
        "outputId": "282740d3-c618-4f51-a3da-053bcfa7ec8e"
      },
      "id": "5EffMy1E4m8o",
      "execution_count": 2,
      "outputs": [
        {
          "output_type": "stream",
          "name": "stdout",
          "text": [
            "✨🍰✨ Everything looks OK!\n"
          ]
        }
      ]
    },
    {
      "cell_type": "code",
      "execution_count": 3,
      "id": "a7b3d30e",
      "metadata": {
        "colab": {
          "base_uri": "https://localhost:8080/"
        },
        "id": "a7b3d30e",
        "outputId": "f5838bb1-7b2e-44d9-f17c-12f1f939ab9e"
      },
      "outputs": [
        {
          "output_type": "stream",
          "name": "stdout",
          "text": [
            "Collecting package metadata (current_repodata.json): - \b\b\\ \b\b| \b\b/ \b\b- \b\b\\ \b\b| \b\b/ \b\b- \b\b\\ \b\b| \b\b/ \b\b- \b\b\\ \b\b| \b\b/ \b\b- \b\b\\ \b\b| \b\b/ \b\b- \b\b\\ \b\b| \b\b/ \b\b- \b\b\\ \b\b| \b\b/ \b\b- \b\b\\ \b\b| \b\b/ \b\b- \b\b\\ \b\b| \b\b/ \b\b- \b\b\\ \b\b| \b\b/ \b\b- \b\b\\ \b\b| \b\b/ \b\b- \b\b\\ \b\b| \b\b/ \b\b- \b\b\\ \b\b| \b\b/ \b\b- \b\b\\ \b\b| \b\b/ \b\b- \b\b\\ \b\b| \b\b/ \b\b- \b\b\\ \b\b| \b\b/ \b\b- \b\b\\ \b\b| \b\b/ \b\b- \b\b\\ \b\b| \b\b/ \b\b- \b\b\\ \b\b| \b\b/ \b\b- \b\b\\ \b\b| \b\b/ \b\b- \b\b\\ \b\b| \b\b/ \b\b- \b\b\\ \b\b| \b\b/ \b\b- \b\b\\ \b\b| \b\bdone\n",
            "Solving environment: - \b\b\\ \b\b| \b\b/ \b\b- \b\b\\ \b\b| \b\b/ \b\b- \b\b\\ \b\b| \b\b/ \b\b- \b\b\\ \b\b| \b\b/ \b\b- \b\b\\ \b\b| \b\b/ \b\b- \b\b\\ \b\b| \b\b/ \b\b- \b\b\\ \b\b| \b\b/ \b\b- \b\b\\ \b\b| \b\b/ \b\b- \b\b\\ \b\b| \b\b/ \b\b- \b\b\\ \b\b| \b\b/ \b\b- \b\b\\ \b\b| \b\b/ \b\b- \b\b\\ \b\b| \b\b/ \b\b- \b\b\\ \b\bdone\n",
            "\n",
            "## Package Plan ##\n",
            "\n",
            "  environment location: /usr/local\n",
            "\n",
            "  added / updated specs:\n",
            "    - implicit\n",
            "\n",
            "\n",
            "The following packages will be downloaded:\n",
            "\n",
            "    package                    |            build\n",
            "    ---------------------------|-----------------\n",
            "    ca-certificates-2021.10.8  |       ha878542_0         139 KB  conda-forge\n",
            "    certifi-2021.10.8          |   py37h89c1867_1         145 KB  conda-forge\n",
            "    conda-4.11.0               |   py37h89c1867_0        16.9 MB  conda-forge\n",
            "    cudatoolkit-11.1.1         |      h6406543_10        1.20 GB  conda-forge\n",
            "    implicit-0.5.2             |   py37h57730ed_1        17.0 MB  conda-forge\n",
            "    libblas-3.9.0              |13_linux64_openblas          12 KB  conda-forge\n",
            "    libcblas-3.9.0             |13_linux64_openblas          12 KB  conda-forge\n",
            "    libgcc-ng-11.2.0           |      h1d223b6_12         904 KB  conda-forge\n",
            "    libgfortran-ng-11.2.0      |      h69a702a_12          19 KB  conda-forge\n",
            "    libgfortran5-11.2.0        |      h5c6108e_12         1.7 MB  conda-forge\n",
            "    libgomp-11.2.0             |      h1d223b6_12         426 KB  conda-forge\n",
            "    liblapack-3.9.0            |13_linux64_openblas          12 KB  conda-forge\n",
            "    libopenblas-0.3.18         |pthreads_h8fe5266_0         9.6 MB  conda-forge\n",
            "    libstdcxx-ng-11.2.0        |      he4da1e4_12         4.2 MB  conda-forge\n",
            "    numpy-1.21.5               |   py37hf2998dd_0         6.1 MB  conda-forge\n",
            "    openssl-1.1.1l             |       h7f98852_0         2.1 MB  conda-forge\n",
            "    python_abi-3.7             |          2_cp37m           4 KB  conda-forge\n",
            "    scipy-1.7.3                |   py37hf2a6cf1_0        21.8 MB  conda-forge\n",
            "    ------------------------------------------------------------\n",
            "                                           Total:        1.28 GB\n",
            "\n",
            "The following NEW packages will be INSTALLED:\n",
            "\n",
            "  cudatoolkit        conda-forge/linux-64::cudatoolkit-11.1.1-h6406543_10\n",
            "  implicit           conda-forge/linux-64::implicit-0.5.2-py37h57730ed_1\n",
            "  libblas            conda-forge/linux-64::libblas-3.9.0-13_linux64_openblas\n",
            "  libcblas           conda-forge/linux-64::libcblas-3.9.0-13_linux64_openblas\n",
            "  libgfortran-ng     conda-forge/linux-64::libgfortran-ng-11.2.0-h69a702a_12\n",
            "  libgfortran5       conda-forge/linux-64::libgfortran5-11.2.0-h5c6108e_12\n",
            "  liblapack          conda-forge/linux-64::liblapack-3.9.0-13_linux64_openblas\n",
            "  libopenblas        conda-forge/linux-64::libopenblas-0.3.18-pthreads_h8fe5266_0\n",
            "  numpy              conda-forge/linux-64::numpy-1.21.5-py37hf2998dd_0\n",
            "  scipy              conda-forge/linux-64::scipy-1.7.3-py37hf2a6cf1_0\n",
            "\n",
            "The following packages will be UPDATED:\n",
            "\n",
            "  ca-certificates                      2020.12.5-ha878542_0 --> 2021.10.8-ha878542_0\n",
            "  certifi                          2020.12.5-py37h89c1867_1 --> 2021.10.8-py37h89c1867_1\n",
            "  conda                                4.9.2-py37h89c1867_0 --> 4.11.0-py37h89c1867_0\n",
            "  libgcc-ng                               9.3.0-h2828fa1_18 --> 11.2.0-h1d223b6_12\n",
            "  libgomp                                 9.3.0-h2828fa1_18 --> 11.2.0-h1d223b6_12\n",
            "  libstdcxx-ng                            9.3.0-h6de172a_18 --> 11.2.0-he4da1e4_12\n",
            "  openssl                                 1.1.1j-h7f98852_0 --> 1.1.1l-h7f98852_0\n",
            "  python_abi                                    3.7-1_cp37m --> 3.7-2_cp37m\n",
            "\n",
            "\n",
            "\n",
            "Downloading and Extracting Packages\n",
            "libopenblas-0.3.18   | 9.6 MB    | : 100% 1.0/1 [00:02<00:00,  2.08s/it]               \n",
            "cudatoolkit-11.1.1   | 1.20 GB   | : 100% 1.0/1 [03:13<00:00, 193.77s/it]              \n",
            "ca-certificates-2021 | 139 KB    | : 100% 1.0/1 [00:00<00:00, 10.16it/s]\n",
            "liblapack-3.9.0      | 12 KB     | : 100% 1.0/1 [00:00<00:00, 17.14it/s]\n",
            "implicit-0.5.2       | 17.0 MB   | : 100% 1.0/1 [00:03<00:00,  3.87s/it]               \n",
            "libgfortran-ng-11.2. | 19 KB     | : 100% 1.0/1 [00:00<00:00, 13.94it/s]\n",
            "certifi-2021.10.8    | 145 KB    | : 100% 1.0/1 [00:00<00:00, 11.36it/s]\n",
            "libgfortran5-11.2.0  | 1.7 MB    | : 100% 1.0/1 [00:00<00:00,  2.46it/s]\n",
            "libblas-3.9.0        | 12 KB     | : 100% 1.0/1 [00:00<00:00, 15.56it/s]\n",
            "libstdcxx-ng-11.2.0  | 4.2 MB    | : 100% 1.0/1 [00:00<00:00,  1.20it/s]\n",
            "scipy-1.7.3          | 21.8 MB   | : 100% 1.0/1 [00:11<00:00, 11.29s/it]               \n",
            "numpy-1.21.5         | 6.1 MB    | : 100% 1.0/1 [00:01<00:00,  1.52s/it]               \n",
            "libgcc-ng-11.2.0     | 904 KB    | : 100% 1.0/1 [00:00<00:00,  4.71it/s]\n",
            "python_abi-3.7       | 4 KB      | : 100% 1.0/1 [00:00<00:00,  7.17it/s]\n",
            "openssl-1.1.1l       | 2.1 MB    | : 100% 1.0/1 [00:00<00:00,  2.45it/s]\n",
            "libcblas-3.9.0       | 12 KB     | : 100% 1.0/1 [00:00<00:00, 12.84it/s]\n",
            "libgomp-11.2.0       | 426 KB    | : 100% 1.0/1 [00:00<00:00,  7.87it/s]\n",
            "conda-4.11.0         | 16.9 MB   | : 100% 1.0/1 [00:04<00:00,  4.35s/it]\n",
            "Preparing transaction: / \b\b- \b\bdone\n",
            "Verifying transaction: | \b\b/ \b\b- \b\b\\ \b\b| \b\b/ \b\bdone\n",
            "Executing transaction: \\ \b\b| \b\b/ \b\b- \b\b\\ \b\b| \b\b/ By downloading and using the CUDA Toolkit conda packages, you accept the terms and conditions of the CUDA End User License Agreement (EULA): https://docs.nvidia.com/cuda/eula/index.html\n",
            "\n",
            "\b\b- \b\b\\ \b\bdone\n"
          ]
        }
      ],
      "source": [
        "!conda install -c conda-forge implicit"
      ]
    },
    {
      "cell_type": "code",
      "execution_count": 4,
      "id": "18f70998",
      "metadata": {
        "colab": {
          "base_uri": "https://localhost:8080/"
        },
        "id": "18f70998",
        "outputId": "dc5cf733-d291-4473-c709-0b88532a767a"
      },
      "outputs": [
        {
          "output_type": "stream",
          "name": "stdout",
          "text": [
            "Collecting package metadata (current_repodata.json): - \b\b\\ \b\b| \b\b/ \b\b- \b\b\\ \b\b| \b\b/ \b\b- \b\b\\ \b\b| \b\b/ \b\b- \b\b\\ \b\b| \b\b/ \b\b- \b\b\\ \b\b| \b\bdone\n",
            "Solving environment: - \b\b\\ \b\b| \b\b/ \b\b- \b\b\\ \b\b| \b\b/ \b\b- \b\b\\ \b\b| \b\b/ \b\b- \b\b\\ \b\b| \b\b/ \b\b- \b\b\\ \b\b| \b\b/ \b\b- \b\b\\ \b\b| \b\b/ \b\b- \b\b\\ \b\b| \b\b/ \b\b- \b\b\\ \b\b| \b\b/ \b\b- \b\b\\ \b\b| \b\bdone\n",
            "\n",
            "## Package Plan ##\n",
            "\n",
            "  environment location: /usr/local\n",
            "\n",
            "  added / updated specs:\n",
            "    - implicit\n",
            "    - implicit-proc[build=gpu]\n",
            "\n",
            "\n",
            "The following packages will be downloaded:\n",
            "\n",
            "    package                    |            build\n",
            "    ---------------------------|-----------------\n",
            "    implicit-proc-0.5.2        |              gpu           4 KB  conda-forge\n",
            "    ------------------------------------------------------------\n",
            "                                           Total:           4 KB\n",
            "\n",
            "The following NEW packages will be INSTALLED:\n",
            "\n",
            "  implicit-proc      conda-forge/linux-64::implicit-proc-0.5.2-gpu\n",
            "\n",
            "\n",
            "\n",
            "Downloading and Extracting Packages\n",
            "implicit-proc-0.5.2  | 4 KB      | : 100% 1.0/1 [00:00<00:00,  4.04it/s]\n",
            "Preparing transaction: - \b\bdone\n",
            "Verifying transaction: | \b\bdone\n",
            "Executing transaction: - \b\bdone\n"
          ]
        }
      ],
      "source": [
        "!conda install -c conda-forge implicit implicit-proc=*=gpu"
      ]
    },
    {
      "cell_type": "code",
      "execution_count": 5,
      "id": "d9364692",
      "metadata": {
        "colab": {
          "base_uri": "https://localhost:8080/"
        },
        "id": "d9364692",
        "outputId": "23e6d3ab-7326-4e94-d3ee-de67b2b33662"
      },
      "outputs": [
        {
          "output_type": "stream",
          "name": "stdout",
          "text": [
            "Requirement already satisfied: implicit in /usr/local/lib/python3.7/site-packages (0.5.2)\n",
            "Requirement already satisfied: tqdm>=4.27 in /usr/local/lib/python3.7/site-packages (from implicit) (4.59.0)\n",
            "Requirement already satisfied: numpy in /usr/local/lib/python3.7/site-packages (from implicit) (1.21.5)\n",
            "Requirement already satisfied: scipy>=0.16 in /usr/local/lib/python3.7/site-packages (from implicit) (1.7.3)\n"
          ]
        }
      ],
      "source": [
        "!pip install implicit"
      ]
    },
    {
      "cell_type": "code",
      "execution_count": 6,
      "id": "c2721ff7",
      "metadata": {
        "colab": {
          "base_uri": "https://localhost:8080/"
        },
        "id": "c2721ff7",
        "outputId": "d376d628-d6cd-4c25-a68b-81c40d54f7e0"
      },
      "outputs": [
        {
          "output_type": "stream",
          "name": "stderr",
          "text": [
            "/usr/local/lib/python3.7/site-packages/implicit/gpu/__init__.py:14: UserWarning: CUDA extension is built, but disabling GPU support because of 'Cuda Error: no CUDA-capable device is detected (/home/conda/feedstock_root/build_artifacts/implicit_1643471648553/work/./implicit/gpu/utils.h:71)'\n",
            "  f\"CUDA extension is built, but disabling GPU support because of '{e}'\",\n"
          ]
        }
      ],
      "source": [
        "import implicit"
      ]
    },
    {
      "cell_type": "code",
      "execution_count": 7,
      "id": "cbbc3223",
      "metadata": {
        "colab": {
          "base_uri": "https://localhost:8080/"
        },
        "id": "cbbc3223",
        "outputId": "fc416b9b-5765-4e5c-af8b-5a4a38358533"
      },
      "outputs": [
        {
          "output_type": "stream",
          "name": "stdout",
          "text": [
            "Collecting package metadata (current_repodata.json): - \b\b\\ \b\b| \b\b/ \b\b- \b\b\\ \b\b| \b\b/ \b\b- \b\b\\ \b\b| \b\b/ \b\b- \b\b\\ \b\b| \b\b/ \b\bdone\n",
            "Solving environment: \\ \b\b| \b\b/ \b\b- \b\b\\ \b\b| \b\b/ \b\b- \b\b\\ \b\b| \b\b/ \b\b- \b\b\\ \b\b| \b\b/ \b\b- \b\b\\ \b\b| \b\b/ \b\b- \b\bdone\n",
            "\n",
            "## Package Plan ##\n",
            "\n",
            "  environment location: /usr/local\n",
            "\n",
            "  added / updated specs:\n",
            "    - lightgbm\n",
            "\n",
            "\n",
            "The following packages will be downloaded:\n",
            "\n",
            "    package                    |            build\n",
            "    ---------------------------|-----------------\n",
            "    joblib-1.1.0               |     pyhd8ed1ab_0         210 KB  conda-forge\n",
            "    lightgbm-3.3.2             |   py37hcd2ae1e_0         1.8 MB  conda-forge\n",
            "    scikit-learn-1.0.2         |   py37hf9e9bfc_0         7.8 MB  conda-forge\n",
            "    threadpoolctl-3.1.0        |     pyh8a188c0_0          18 KB  conda-forge\n",
            "    ------------------------------------------------------------\n",
            "                                           Total:         9.9 MB\n",
            "\n",
            "The following NEW packages will be INSTALLED:\n",
            "\n",
            "  joblib             conda-forge/noarch::joblib-1.1.0-pyhd8ed1ab_0\n",
            "  lightgbm           conda-forge/linux-64::lightgbm-3.3.2-py37hcd2ae1e_0\n",
            "  scikit-learn       conda-forge/linux-64::scikit-learn-1.0.2-py37hf9e9bfc_0\n",
            "  threadpoolctl      conda-forge/noarch::threadpoolctl-3.1.0-pyh8a188c0_0\n",
            "\n",
            "\n",
            "\n",
            "Downloading and Extracting Packages\n",
            "threadpoolctl-3.1.0  | 18 KB     | : 100% 1.0/1 [00:00<00:00,  7.01it/s]               \n",
            "joblib-1.1.0         | 210 KB    | : 100% 1.0/1 [00:00<00:00,  6.16it/s]\n",
            "lightgbm-3.3.2       | 1.8 MB    | : 100% 1.0/1 [00:00<00:00,  2.26it/s]\n",
            "scikit-learn-1.0.2   | 7.8 MB    | : 100% 1.0/1 [00:01<00:00,  1.94s/it]\n",
            "Preparing transaction: | \b\bdone\n",
            "Verifying transaction: - \b\b\\ \b\bdone\n",
            "Executing transaction: / \b\b- \b\b\\ \b\b| \b\b/ \b\b- \b\b\\ \b\b| \b\bdone\n"
          ]
        }
      ],
      "source": [
        "!conda install -c conda-forge lightgbm"
      ]
    },
    {
      "cell_type": "code",
      "execution_count": 8,
      "id": "47781fe3",
      "metadata": {
        "id": "47781fe3"
      },
      "outputs": [],
      "source": [
        "import sys"
      ]
    },
    {
      "cell_type": "code",
      "source": [
        "from google.colab import drive\n",
        "drive.mount('/content/drive')"
      ],
      "metadata": {
        "colab": {
          "base_uri": "https://localhost:8080/"
        },
        "id": "8iaBXa_T6UuH",
        "outputId": "f91d3413-a0a5-4557-df58-80683dca5e60"
      },
      "id": "8iaBXa_T6UuH",
      "execution_count": 11,
      "outputs": [
        {
          "output_type": "stream",
          "name": "stdout",
          "text": [
            "Mounted at /content/drive\n"
          ]
        }
      ]
    },
    {
      "cell_type": "code",
      "execution_count": 19,
      "id": "1689cf98",
      "metadata": {
        "id": "1689cf98"
      },
      "outputs": [],
      "source": [
        "import pandas as pd\n",
        "import numpy as np\n",
        "import matplotlib.pyplot as plt\n",
        "%matplotlib inline\n",
        "\n",
        "# Для работы с матрицами\n",
        "from scipy.sparse import csr_matrix\n",
        "\n",
        "# Матричная факторизация\n",
        "from implicit import als\n",
        "from lightgbm import LGBMClassifier\n",
        "\n",
        "import os, sys\n",
        "module_path = os.path.abspath('/content/drive/MyDrive')\n",
        "if module_path not in sys.path:\n",
        "    sys.path.append(module_path)\n",
        "    \n",
        "from statistics import mean\n",
        "\n",
        "# Написанные нами функции\n",
        "from metrics import precision_at_k, recall_at_k, money_precision_at_k\n",
        "\n",
        "# from utils import prefilter_items, get_targets_sec_level, extend_new_user_features, extend_new_item_features, extend_user_item_new_features, get_important_features, get_popularity_recommendations, postfilter_items, get_final_recomendations\n",
        "\n",
        "\n",
        "from utils import prefilter_items#, \\\n",
        "#extend_user_item_new_features, get_important_features, get_popularity_recommendations, filter_by_diff_cat, \\\n",
        "#postfilter_items, get_final_recomendations, get_targets_sec_level, extend_new_user_features, extend_new_item_features\n",
        "\n",
        "\n",
        "from recommenders import MainRecommender\n",
        "\n",
        "from tqdm import tqdm\n",
        "tqdm.pandas()\n",
        "\n",
        "pd.pandas.set_option('display.max_columns', None)\n",
        "import warnings\n",
        "warnings.simplefilter('ignore')"
      ]
    },
    {
      "cell_type": "code",
      "execution_count": 20,
      "id": "283a8bd3",
      "metadata": {
        "id": "283a8bd3"
      },
      "outputs": [],
      "source": [
        "%load_ext autoreload"
      ]
    },
    {
      "cell_type": "markdown",
      "id": "f8ece861",
      "metadata": {
        "id": "f8ece861"
      },
      "source": [
        "### Загрузка данных и разделение на train и test"
      ]
    },
    {
      "cell_type": "code",
      "execution_count": 22,
      "id": "e3bdcfbc",
      "metadata": {
        "id": "e3bdcfbc"
      },
      "outputs": [],
      "source": [
        "data = pd.read_csv('/content/drive/MyDrive/retail_train.csv')\n",
        "data_test = pd.read_csv('/content/drive/MyDrive/retail_test1.csv')\n",
        "item_features = pd.read_csv('/content/drive/MyDrive/product.csv')\n",
        "user_features = pd.read_csv('/content/drive/MyDrive/hh_demographic.csv')"
      ]
    },
    {
      "cell_type": "code",
      "execution_count": 23,
      "id": "512a1fda",
      "metadata": {
        "id": "512a1fda"
      },
      "outputs": [],
      "source": [
        "# column processing\n",
        "item_features.columns = [col.lower() for col in item_features.columns]\n",
        "user_features.columns = [col.lower() for col in user_features.columns]\n",
        "\n",
        "item_features.rename(columns={'product_id': 'item_id'}, inplace=True)\n",
        "user_features.rename(columns={'household_key': 'user_id'}, inplace=True)"
      ]
    },
    {
      "cell_type": "code",
      "execution_count": 24,
      "id": "139eb784",
      "metadata": {
        "id": "139eb784"
      },
      "outputs": [],
      "source": [
        "# Количество рекомендаций\n",
        "N=100 \n",
        "\n",
        "VAL_SIZE = 3\n",
        "\n",
        "train_1 = data[data['week_no'] < data['week_no'].max() - (VAL_SIZE)]\n",
        "val = data[data['week_no'] >= data['week_no'].max() - (VAL_SIZE)]\n",
        "\n",
        "train_2 = val.copy()"
      ]
    },
    {
      "cell_type": "markdown",
      "id": "dafcafb1",
      "metadata": {
        "id": "dafcafb1"
      },
      "source": [
        "### Предварительная фильтрация данных"
      ]
    },
    {
      "cell_type": "code",
      "execution_count": 25,
      "id": "f000f178",
      "metadata": {
        "colab": {
          "base_uri": "https://localhost:8080/"
        },
        "id": "f000f178",
        "outputId": "1cc34d2b-114d-46be-9adb-66673ced7321"
      },
      "outputs": [
        {
          "output_type": "stream",
          "name": "stdout",
          "text": [
            "Decreased # items from 86865 to 3001\n"
          ]
        }
      ],
      "source": [
        "n_items_before = train_1['item_id'].nunique()\n",
        "train_1 = prefilter_items(train_1, item_features=item_features, take_n_popular= 3000)\n",
        "n_items_after = train_1['item_id'].nunique()\n",
        "\n",
        "print(f'Decreased # items from {n_items_before} to {n_items_after}')"
      ]
    },
    {
      "cell_type": "markdown",
      "id": "7ebce584",
      "metadata": {
        "id": "7ebce584"
      },
      "source": [
        "### Обучение модели первого уровня"
      ]
    },
    {
      "cell_type": "code",
      "execution_count": 26,
      "id": "4e9aba8c",
      "metadata": {
        "colab": {
          "base_uri": "https://localhost:8080/",
          "height": 81,
          "referenced_widgets": [
            "a5996ef5c1e8410eb0b6f7ec441d44bc",
            "457219bb3ec2494cb333bc478f538d7b",
            "c812071207304f348f99e1a9073438ce",
            "73e7dbe4f0084615ae3e66295ba1c551",
            "f73ad85d91134635b81b8836cd4115d1",
            "f716ef00d4cd4205839fac4b40b58c57",
            "67bf5a5b96e04c219c69fdf740998878",
            "7497f49a0bb54996bebc4223a9e651d2",
            "946521816a83406890258678649601dd",
            "8359b8dfc4234f44b5e050d76853ea05",
            "e10bf8f791434751b0311ae78294e4ae",
            "f23cc61373df4fa1886445be076468e0",
            "a3fee2785d3a4e9fa46c41ee9c402bb1",
            "9b973d1a42dd4dfea3db034395ad9a2f",
            "72a25fa13b2b48ab8e9583b333591cd5",
            "7c458f8c01904ad7a683f504bf12e7f0",
            "ca92166f5019435d9914e5be597260fa",
            "41aece2043aa4237a404cea76e2ac0bd",
            "3112d30586f14b7387d9f01acc824c1a",
            "30ba3d623e1f4a04af95e1a43edab15d",
            "a13292ace3b44a708aefba1654e976cf",
            "ced33cb32c8145458c4840f7246fba6c"
          ]
        },
        "id": "4e9aba8c",
        "outputId": "8d5ee035-ab4c-4e65-8fc4-a240653776cd"
      },
      "outputs": [
        {
          "output_type": "display_data",
          "data": {
            "application/vnd.jupyter.widget-view+json": {
              "model_id": "a5996ef5c1e8410eb0b6f7ec441d44bc",
              "version_minor": 0,
              "version_major": 2
            },
            "text/plain": [
              "  0%|          | 0/15 [00:00<?, ?it/s]"
            ]
          },
          "metadata": {}
        },
        {
          "output_type": "display_data",
          "data": {
            "application/vnd.jupyter.widget-view+json": {
              "model_id": "f23cc61373df4fa1886445be076468e0",
              "version_minor": 0,
              "version_major": 2
            },
            "text/plain": [
              "  0%|          | 0/2497 [00:00<?, ?it/s]"
            ]
          },
          "metadata": {}
        }
      ],
      "source": [
        "recommender = MainRecommender(train_1)"
      ]
    },
    {
      "cell_type": "markdown",
      "id": "85a9c69a",
      "metadata": {
        "id": "85a9c69a"
      },
      "source": [
        "### Эмбеддинги"
      ]
    },
    {
      "cell_type": "code",
      "execution_count": 28,
      "id": "b5ecc7c1",
      "metadata": {
        "colab": {
          "base_uri": "https://localhost:8080/",
          "height": 183
        },
        "id": "b5ecc7c1",
        "outputId": "f2f8256c-0292-407d-fa14-adc0d82a7318"
      },
      "outputs": [
        {
          "output_type": "error",
          "ename": "AttributeError",
          "evalue": "ignored",
          "traceback": [
            "\u001b[0;31m---------------------------------------------------------------------------\u001b[0m",
            "\u001b[0;31mAttributeError\u001b[0m                            Traceback (most recent call last)",
            "\u001b[0;32m<ipython-input-28-c003e99979c5>\u001b[0m in \u001b[0;36m<module>\u001b[0;34m()\u001b[0m\n\u001b[0;32m----> 1\u001b[0;31m \u001b[0mitems_emb_df\u001b[0m \u001b[0;34m=\u001b[0m \u001b[0mrecommender\u001b[0m\u001b[0;34m.\u001b[0m\u001b[0mitems_emb_df\u001b[0m\u001b[0;34m\u001b[0m\u001b[0;34m\u001b[0m\u001b[0m\n\u001b[0m\u001b[1;32m      2\u001b[0m \u001b[0musers_emb_df\u001b[0m \u001b[0;34m=\u001b[0m \u001b[0mrecommender\u001b[0m\u001b[0;34m.\u001b[0m\u001b[0musers_emb_df\u001b[0m\u001b[0;34m\u001b[0m\u001b[0;34m\u001b[0m\u001b[0m\n",
            "\u001b[0;31mAttributeError\u001b[0m: 'MainRecommender' object has no attribute 'items_emb_df'"
          ]
        }
      ],
      "source": [
        "items_emb_df = recommender.items_emb_df\n",
        "users_emb_df = recommender.users_emb_df"
      ]
    },
    {
      "cell_type": "markdown",
      "id": "ab11bddf",
      "metadata": {
        "id": "ab11bddf"
      },
      "source": [
        "### Фичи"
      ]
    },
    {
      "cell_type": "code",
      "execution_count": null,
      "id": "1d52b03b",
      "metadata": {
        "id": "1d52b03b"
      },
      "outputs": [],
      "source": [
        "train = extend_user_item_new_features(train_2, train_1, recommender, item_features, user_features, items_emb_df, users_emb_df, N)\n",
        "train.head()"
      ]
    },
    {
      "cell_type": "code",
      "execution_count": null,
      "id": "58cc02f1",
      "metadata": {
        "id": "58cc02f1"
      },
      "outputs": [],
      "source": [
        "X_train = train.drop(['target'], axis=1)\n",
        "y_train = train[['target']]"
      ]
    },
    {
      "cell_type": "code",
      "execution_count": null,
      "id": "c0c788f3",
      "metadata": {
        "id": "c0c788f3"
      },
      "outputs": [],
      "source": [
        "cat_features=[]\n",
        "for col in X_train.columns:\n",
        "    if(X_train[col].dtype == np.object):\n",
        "          cat_features.append(col)\n",
        "            \n",
        "X_train[cat_features + ['user_id', 'item_id']] = X_train[cat_features + ['user_id', 'item_id']].astype('category')"
      ]
    },
    {
      "cell_type": "code",
      "execution_count": null,
      "id": "375b98a4",
      "metadata": {
        "id": "375b98a4"
      },
      "outputs": [],
      "source": [
        "test = extend_user_item_new_features(data_test, train_1, recommender, item_features, user_features, items_emb_df, users_emb_df, N)\n",
        "X_test = test.drop(['target'], axis=1)\n",
        "y_test = test[['target']]\n",
        "X_test[cat_features + ['user_id', 'item_id']] = X_test[cat_features + ['user_id', 'item_id']].astype('category')"
      ]
    },
    {
      "cell_type": "markdown",
      "id": "c3d6d789",
      "metadata": {
        "id": "c3d6d789"
      },
      "source": [
        "### Выполнение lgb для определения наиболее важных фичей"
      ]
    },
    {
      "cell_type": "code",
      "execution_count": null,
      "id": "f3aa4cf7",
      "metadata": {
        "id": "f3aa4cf7"
      },
      "outputs": [],
      "source": [
        "lgb = LGBMClassifier(objective='binary', max_depth=5, categorical_column=cat_features)\n",
        "important_features = get_important_features(lgb, X_train, y_train)"
      ]
    },
    {
      "cell_type": "markdown",
      "id": "3418b15f",
      "metadata": {
        "id": "3418b15f"
      },
      "source": [
        "### Обучение модели второго уровня"
      ]
    },
    {
      "cell_type": "code",
      "execution_count": null,
      "id": "b84e8d69",
      "metadata": {
        "id": "b84e8d69"
      },
      "outputs": [],
      "source": [
        "lgb = LGBMClassifier(\n",
        "    objective='binary',\n",
        "    max_depth=5,\n",
        "    categorical_feature=cat_features\n",
        ")\n",
        "lgb.fit(X_train[important_features], y_train)"
      ]
    },
    {
      "cell_type": "code",
      "execution_count": null,
      "id": "7b53370c",
      "metadata": {
        "id": "7b53370c"
      },
      "outputs": [],
      "source": [
        "preds = lgb.predict(X_test[important_features])\n",
        "test_preds_proba = lgb.predict_proba(X_test[important_features])[:, 1]"
      ]
    },
    {
      "cell_type": "markdown",
      "id": "d214ed27",
      "metadata": {
        "id": "d214ed27"
      },
      "source": [
        "### Финальная фильтрация данных"
      ]
    },
    {
      "cell_type": "code",
      "execution_count": null,
      "id": "ffc6c8c1",
      "metadata": {
        "id": "ffc6c8c1"
      },
      "outputs": [],
      "source": [
        "result = get_final_recomendations(X_test, test_preds_proba, data, train_1, item_features)"
      ]
    },
    {
      "cell_type": "code",
      "execution_count": null,
      "id": "8d321713",
      "metadata": {
        "id": "8d321713"
      },
      "outputs": [],
      "source": [
        "price = train_1.groupby('item_id')['price'].mean().reset_index()"
      ]
    },
    {
      "cell_type": "markdown",
      "id": "9a22f8c7",
      "metadata": {
        "id": "9a22f8c7"
      },
      "source": [
        "### Money precision @ k"
      ]
    },
    {
      "cell_type": "code",
      "execution_count": null,
      "id": "e09193ce",
      "metadata": {
        "id": "e09193ce"
      },
      "outputs": [],
      "source": [
        "final_result = result.apply(lambda row: money_precision_at_k(row['recomendations'], row['actual'], price), axis=1).mean()"
      ]
    },
    {
      "cell_type": "code",
      "execution_count": null,
      "id": "dc8f1e0a",
      "metadata": {
        "id": "dc8f1e0a"
      },
      "outputs": [],
      "source": [
        "final_result"
      ]
    },
    {
      "cell_type": "markdown",
      "id": "6fed2bfa",
      "metadata": {
        "id": "6fed2bfa"
      },
      "source": [
        "### Сохранение предсказания"
      ]
    },
    {
      "cell_type": "code",
      "execution_count": null,
      "id": "a7ae68c0",
      "metadata": {
        "id": "a7ae68c0"
      },
      "outputs": [],
      "source": [
        "result.drop('actual', axis=1, inplace=True)"
      ]
    },
    {
      "cell_type": "code",
      "execution_count": null,
      "id": "3b8bb378",
      "metadata": {
        "id": "3b8bb378"
      },
      "outputs": [],
      "source": [
        "result.to_csv('/content/drive/MyDrive/recommendations.csv', index=False)"
      ]
    }
  ],
  "metadata": {
    "kernelspec": {
      "display_name": "Python 3 (ipykernel)",
      "language": "python",
      "name": "python3"
    },
    "language_info": {
      "codemirror_mode": {
        "name": "ipython",
        "version": 3
      },
      "file_extension": ".py",
      "mimetype": "text/x-python",
      "name": "python",
      "nbconvert_exporter": "python",
      "pygments_lexer": "ipython3",
      "version": "3.8.12"
    },
    "colab": {
      "name": "CP.ipynb",
      "provenance": []
    },
    "widgets": {
      "application/vnd.jupyter.widget-state+json": {
        "a5996ef5c1e8410eb0b6f7ec441d44bc": {
          "model_module": "@jupyter-widgets/controls",
          "model_name": "HBoxModel",
          "model_module_version": "1.5.0",
          "state": {
            "_view_name": "HBoxView",
            "_dom_classes": [],
            "_model_name": "HBoxModel",
            "_view_module": "@jupyter-widgets/controls",
            "_model_module_version": "1.5.0",
            "_view_count": null,
            "_view_module_version": "1.5.0",
            "box_style": "",
            "layout": "IPY_MODEL_457219bb3ec2494cb333bc478f538d7b",
            "_model_module": "@jupyter-widgets/controls",
            "children": [
              "IPY_MODEL_c812071207304f348f99e1a9073438ce",
              "IPY_MODEL_73e7dbe4f0084615ae3e66295ba1c551",
              "IPY_MODEL_f73ad85d91134635b81b8836cd4115d1"
            ]
          }
        },
        "457219bb3ec2494cb333bc478f538d7b": {
          "model_module": "@jupyter-widgets/base",
          "model_name": "LayoutModel",
          "model_module_version": "1.2.0",
          "state": {
            "_view_name": "LayoutView",
            "grid_template_rows": null,
            "right": null,
            "justify_content": null,
            "_view_module": "@jupyter-widgets/base",
            "overflow": null,
            "_model_module_version": "1.2.0",
            "_view_count": null,
            "flex_flow": null,
            "width": null,
            "min_width": null,
            "border": null,
            "align_items": null,
            "bottom": null,
            "_model_module": "@jupyter-widgets/base",
            "top": null,
            "grid_column": null,
            "overflow_y": null,
            "overflow_x": null,
            "grid_auto_flow": null,
            "grid_area": null,
            "grid_template_columns": null,
            "flex": null,
            "_model_name": "LayoutModel",
            "justify_items": null,
            "grid_row": null,
            "max_height": null,
            "align_content": null,
            "visibility": null,
            "align_self": null,
            "height": null,
            "min_height": null,
            "padding": null,
            "grid_auto_rows": null,
            "grid_gap": null,
            "max_width": null,
            "order": null,
            "_view_module_version": "1.2.0",
            "grid_template_areas": null,
            "object_position": null,
            "object_fit": null,
            "grid_auto_columns": null,
            "margin": null,
            "display": null,
            "left": null
          }
        },
        "c812071207304f348f99e1a9073438ce": {
          "model_module": "@jupyter-widgets/controls",
          "model_name": "HTMLModel",
          "model_module_version": "1.5.0",
          "state": {
            "_view_name": "HTMLView",
            "style": "IPY_MODEL_f716ef00d4cd4205839fac4b40b58c57",
            "_dom_classes": [],
            "description": "",
            "_model_name": "HTMLModel",
            "placeholder": "​",
            "_view_module": "@jupyter-widgets/controls",
            "_model_module_version": "1.5.0",
            "value": "100%",
            "_view_count": null,
            "_view_module_version": "1.5.0",
            "description_tooltip": null,
            "_model_module": "@jupyter-widgets/controls",
            "layout": "IPY_MODEL_67bf5a5b96e04c219c69fdf740998878"
          }
        },
        "73e7dbe4f0084615ae3e66295ba1c551": {
          "model_module": "@jupyter-widgets/controls",
          "model_name": "FloatProgressModel",
          "model_module_version": "1.5.0",
          "state": {
            "_view_name": "ProgressView",
            "style": "IPY_MODEL_7497f49a0bb54996bebc4223a9e651d2",
            "_dom_classes": [],
            "description": "",
            "_model_name": "FloatProgressModel",
            "bar_style": "success",
            "max": 15,
            "_view_module": "@jupyter-widgets/controls",
            "_model_module_version": "1.5.0",
            "value": 15,
            "_view_count": null,
            "_view_module_version": "1.5.0",
            "orientation": "horizontal",
            "min": 0,
            "description_tooltip": null,
            "_model_module": "@jupyter-widgets/controls",
            "layout": "IPY_MODEL_946521816a83406890258678649601dd"
          }
        },
        "f73ad85d91134635b81b8836cd4115d1": {
          "model_module": "@jupyter-widgets/controls",
          "model_name": "HTMLModel",
          "model_module_version": "1.5.0",
          "state": {
            "_view_name": "HTMLView",
            "style": "IPY_MODEL_8359b8dfc4234f44b5e050d76853ea05",
            "_dom_classes": [],
            "description": "",
            "_model_name": "HTMLModel",
            "placeholder": "​",
            "_view_module": "@jupyter-widgets/controls",
            "_model_module_version": "1.5.0",
            "value": " 15/15 [05:13&lt;00:00, 16.13s/it]",
            "_view_count": null,
            "_view_module_version": "1.5.0",
            "description_tooltip": null,
            "_model_module": "@jupyter-widgets/controls",
            "layout": "IPY_MODEL_e10bf8f791434751b0311ae78294e4ae"
          }
        },
        "f716ef00d4cd4205839fac4b40b58c57": {
          "model_module": "@jupyter-widgets/controls",
          "model_name": "DescriptionStyleModel",
          "model_module_version": "1.5.0",
          "state": {
            "_view_name": "StyleView",
            "_model_name": "DescriptionStyleModel",
            "description_width": "",
            "_view_module": "@jupyter-widgets/base",
            "_model_module_version": "1.5.0",
            "_view_count": null,
            "_view_module_version": "1.2.0",
            "_model_module": "@jupyter-widgets/controls"
          }
        },
        "67bf5a5b96e04c219c69fdf740998878": {
          "model_module": "@jupyter-widgets/base",
          "model_name": "LayoutModel",
          "model_module_version": "1.2.0",
          "state": {
            "_view_name": "LayoutView",
            "grid_template_rows": null,
            "right": null,
            "justify_content": null,
            "_view_module": "@jupyter-widgets/base",
            "overflow": null,
            "_model_module_version": "1.2.0",
            "_view_count": null,
            "flex_flow": null,
            "width": null,
            "min_width": null,
            "border": null,
            "align_items": null,
            "bottom": null,
            "_model_module": "@jupyter-widgets/base",
            "top": null,
            "grid_column": null,
            "overflow_y": null,
            "overflow_x": null,
            "grid_auto_flow": null,
            "grid_area": null,
            "grid_template_columns": null,
            "flex": null,
            "_model_name": "LayoutModel",
            "justify_items": null,
            "grid_row": null,
            "max_height": null,
            "align_content": null,
            "visibility": null,
            "align_self": null,
            "height": null,
            "min_height": null,
            "padding": null,
            "grid_auto_rows": null,
            "grid_gap": null,
            "max_width": null,
            "order": null,
            "_view_module_version": "1.2.0",
            "grid_template_areas": null,
            "object_position": null,
            "object_fit": null,
            "grid_auto_columns": null,
            "margin": null,
            "display": null,
            "left": null
          }
        },
        "7497f49a0bb54996bebc4223a9e651d2": {
          "model_module": "@jupyter-widgets/controls",
          "model_name": "ProgressStyleModel",
          "model_module_version": "1.5.0",
          "state": {
            "_view_name": "StyleView",
            "_model_name": "ProgressStyleModel",
            "description_width": "",
            "_view_module": "@jupyter-widgets/base",
            "_model_module_version": "1.5.0",
            "_view_count": null,
            "_view_module_version": "1.2.0",
            "bar_color": null,
            "_model_module": "@jupyter-widgets/controls"
          }
        },
        "946521816a83406890258678649601dd": {
          "model_module": "@jupyter-widgets/base",
          "model_name": "LayoutModel",
          "model_module_version": "1.2.0",
          "state": {
            "_view_name": "LayoutView",
            "grid_template_rows": null,
            "right": null,
            "justify_content": null,
            "_view_module": "@jupyter-widgets/base",
            "overflow": null,
            "_model_module_version": "1.2.0",
            "_view_count": null,
            "flex_flow": null,
            "width": null,
            "min_width": null,
            "border": null,
            "align_items": null,
            "bottom": null,
            "_model_module": "@jupyter-widgets/base",
            "top": null,
            "grid_column": null,
            "overflow_y": null,
            "overflow_x": null,
            "grid_auto_flow": null,
            "grid_area": null,
            "grid_template_columns": null,
            "flex": null,
            "_model_name": "LayoutModel",
            "justify_items": null,
            "grid_row": null,
            "max_height": null,
            "align_content": null,
            "visibility": null,
            "align_self": null,
            "height": null,
            "min_height": null,
            "padding": null,
            "grid_auto_rows": null,
            "grid_gap": null,
            "max_width": null,
            "order": null,
            "_view_module_version": "1.2.0",
            "grid_template_areas": null,
            "object_position": null,
            "object_fit": null,
            "grid_auto_columns": null,
            "margin": null,
            "display": null,
            "left": null
          }
        },
        "8359b8dfc4234f44b5e050d76853ea05": {
          "model_module": "@jupyter-widgets/controls",
          "model_name": "DescriptionStyleModel",
          "model_module_version": "1.5.0",
          "state": {
            "_view_name": "StyleView",
            "_model_name": "DescriptionStyleModel",
            "description_width": "",
            "_view_module": "@jupyter-widgets/base",
            "_model_module_version": "1.5.0",
            "_view_count": null,
            "_view_module_version": "1.2.0",
            "_model_module": "@jupyter-widgets/controls"
          }
        },
        "e10bf8f791434751b0311ae78294e4ae": {
          "model_module": "@jupyter-widgets/base",
          "model_name": "LayoutModel",
          "model_module_version": "1.2.0",
          "state": {
            "_view_name": "LayoutView",
            "grid_template_rows": null,
            "right": null,
            "justify_content": null,
            "_view_module": "@jupyter-widgets/base",
            "overflow": null,
            "_model_module_version": "1.2.0",
            "_view_count": null,
            "flex_flow": null,
            "width": null,
            "min_width": null,
            "border": null,
            "align_items": null,
            "bottom": null,
            "_model_module": "@jupyter-widgets/base",
            "top": null,
            "grid_column": null,
            "overflow_y": null,
            "overflow_x": null,
            "grid_auto_flow": null,
            "grid_area": null,
            "grid_template_columns": null,
            "flex": null,
            "_model_name": "LayoutModel",
            "justify_items": null,
            "grid_row": null,
            "max_height": null,
            "align_content": null,
            "visibility": null,
            "align_self": null,
            "height": null,
            "min_height": null,
            "padding": null,
            "grid_auto_rows": null,
            "grid_gap": null,
            "max_width": null,
            "order": null,
            "_view_module_version": "1.2.0",
            "grid_template_areas": null,
            "object_position": null,
            "object_fit": null,
            "grid_auto_columns": null,
            "margin": null,
            "display": null,
            "left": null
          }
        },
        "f23cc61373df4fa1886445be076468e0": {
          "model_module": "@jupyter-widgets/controls",
          "model_name": "HBoxModel",
          "model_module_version": "1.5.0",
          "state": {
            "_view_name": "HBoxView",
            "_dom_classes": [],
            "_model_name": "HBoxModel",
            "_view_module": "@jupyter-widgets/controls",
            "_model_module_version": "1.5.0",
            "_view_count": null,
            "_view_module_version": "1.5.0",
            "box_style": "",
            "layout": "IPY_MODEL_a3fee2785d3a4e9fa46c41ee9c402bb1",
            "_model_module": "@jupyter-widgets/controls",
            "children": [
              "IPY_MODEL_9b973d1a42dd4dfea3db034395ad9a2f",
              "IPY_MODEL_72a25fa13b2b48ab8e9583b333591cd5",
              "IPY_MODEL_7c458f8c01904ad7a683f504bf12e7f0"
            ]
          }
        },
        "a3fee2785d3a4e9fa46c41ee9c402bb1": {
          "model_module": "@jupyter-widgets/base",
          "model_name": "LayoutModel",
          "model_module_version": "1.2.0",
          "state": {
            "_view_name": "LayoutView",
            "grid_template_rows": null,
            "right": null,
            "justify_content": null,
            "_view_module": "@jupyter-widgets/base",
            "overflow": null,
            "_model_module_version": "1.2.0",
            "_view_count": null,
            "flex_flow": null,
            "width": null,
            "min_width": null,
            "border": null,
            "align_items": null,
            "bottom": null,
            "_model_module": "@jupyter-widgets/base",
            "top": null,
            "grid_column": null,
            "overflow_y": null,
            "overflow_x": null,
            "grid_auto_flow": null,
            "grid_area": null,
            "grid_template_columns": null,
            "flex": null,
            "_model_name": "LayoutModel",
            "justify_items": null,
            "grid_row": null,
            "max_height": null,
            "align_content": null,
            "visibility": null,
            "align_self": null,
            "height": null,
            "min_height": null,
            "padding": null,
            "grid_auto_rows": null,
            "grid_gap": null,
            "max_width": null,
            "order": null,
            "_view_module_version": "1.2.0",
            "grid_template_areas": null,
            "object_position": null,
            "object_fit": null,
            "grid_auto_columns": null,
            "margin": null,
            "display": null,
            "left": null
          }
        },
        "9b973d1a42dd4dfea3db034395ad9a2f": {
          "model_module": "@jupyter-widgets/controls",
          "model_name": "HTMLModel",
          "model_module_version": "1.5.0",
          "state": {
            "_view_name": "HTMLView",
            "style": "IPY_MODEL_ca92166f5019435d9914e5be597260fa",
            "_dom_classes": [],
            "description": "",
            "_model_name": "HTMLModel",
            "placeholder": "​",
            "_view_module": "@jupyter-widgets/controls",
            "_model_module_version": "1.5.0",
            "value": "100%",
            "_view_count": null,
            "_view_module_version": "1.5.0",
            "description_tooltip": null,
            "_model_module": "@jupyter-widgets/controls",
            "layout": "IPY_MODEL_41aece2043aa4237a404cea76e2ac0bd"
          }
        },
        "72a25fa13b2b48ab8e9583b333591cd5": {
          "model_module": "@jupyter-widgets/controls",
          "model_name": "FloatProgressModel",
          "model_module_version": "1.5.0",
          "state": {
            "_view_name": "ProgressView",
            "style": "IPY_MODEL_3112d30586f14b7387d9f01acc824c1a",
            "_dom_classes": [],
            "description": "",
            "_model_name": "FloatProgressModel",
            "bar_style": "success",
            "max": 2497,
            "_view_module": "@jupyter-widgets/controls",
            "_model_module_version": "1.5.0",
            "value": 2497,
            "_view_count": null,
            "_view_module_version": "1.5.0",
            "orientation": "horizontal",
            "min": 0,
            "description_tooltip": null,
            "_model_module": "@jupyter-widgets/controls",
            "layout": "IPY_MODEL_30ba3d623e1f4a04af95e1a43edab15d"
          }
        },
        "7c458f8c01904ad7a683f504bf12e7f0": {
          "model_module": "@jupyter-widgets/controls",
          "model_name": "HTMLModel",
          "model_module_version": "1.5.0",
          "state": {
            "_view_name": "HTMLView",
            "style": "IPY_MODEL_a13292ace3b44a708aefba1654e976cf",
            "_dom_classes": [],
            "description": "",
            "_model_name": "HTMLModel",
            "placeholder": "​",
            "_view_module": "@jupyter-widgets/controls",
            "_model_module_version": "1.5.0",
            "value": " 2497/2497 [00:00&lt;00:00, 7604.61it/s]",
            "_view_count": null,
            "_view_module_version": "1.5.0",
            "description_tooltip": null,
            "_model_module": "@jupyter-widgets/controls",
            "layout": "IPY_MODEL_ced33cb32c8145458c4840f7246fba6c"
          }
        },
        "ca92166f5019435d9914e5be597260fa": {
          "model_module": "@jupyter-widgets/controls",
          "model_name": "DescriptionStyleModel",
          "model_module_version": "1.5.0",
          "state": {
            "_view_name": "StyleView",
            "_model_name": "DescriptionStyleModel",
            "description_width": "",
            "_view_module": "@jupyter-widgets/base",
            "_model_module_version": "1.5.0",
            "_view_count": null,
            "_view_module_version": "1.2.0",
            "_model_module": "@jupyter-widgets/controls"
          }
        },
        "41aece2043aa4237a404cea76e2ac0bd": {
          "model_module": "@jupyter-widgets/base",
          "model_name": "LayoutModel",
          "model_module_version": "1.2.0",
          "state": {
            "_view_name": "LayoutView",
            "grid_template_rows": null,
            "right": null,
            "justify_content": null,
            "_view_module": "@jupyter-widgets/base",
            "overflow": null,
            "_model_module_version": "1.2.0",
            "_view_count": null,
            "flex_flow": null,
            "width": null,
            "min_width": null,
            "border": null,
            "align_items": null,
            "bottom": null,
            "_model_module": "@jupyter-widgets/base",
            "top": null,
            "grid_column": null,
            "overflow_y": null,
            "overflow_x": null,
            "grid_auto_flow": null,
            "grid_area": null,
            "grid_template_columns": null,
            "flex": null,
            "_model_name": "LayoutModel",
            "justify_items": null,
            "grid_row": null,
            "max_height": null,
            "align_content": null,
            "visibility": null,
            "align_self": null,
            "height": null,
            "min_height": null,
            "padding": null,
            "grid_auto_rows": null,
            "grid_gap": null,
            "max_width": null,
            "order": null,
            "_view_module_version": "1.2.0",
            "grid_template_areas": null,
            "object_position": null,
            "object_fit": null,
            "grid_auto_columns": null,
            "margin": null,
            "display": null,
            "left": null
          }
        },
        "3112d30586f14b7387d9f01acc824c1a": {
          "model_module": "@jupyter-widgets/controls",
          "model_name": "ProgressStyleModel",
          "model_module_version": "1.5.0",
          "state": {
            "_view_name": "StyleView",
            "_model_name": "ProgressStyleModel",
            "description_width": "",
            "_view_module": "@jupyter-widgets/base",
            "_model_module_version": "1.5.0",
            "_view_count": null,
            "_view_module_version": "1.2.0",
            "bar_color": null,
            "_model_module": "@jupyter-widgets/controls"
          }
        },
        "30ba3d623e1f4a04af95e1a43edab15d": {
          "model_module": "@jupyter-widgets/base",
          "model_name": "LayoutModel",
          "model_module_version": "1.2.0",
          "state": {
            "_view_name": "LayoutView",
            "grid_template_rows": null,
            "right": null,
            "justify_content": null,
            "_view_module": "@jupyter-widgets/base",
            "overflow": null,
            "_model_module_version": "1.2.0",
            "_view_count": null,
            "flex_flow": null,
            "width": null,
            "min_width": null,
            "border": null,
            "align_items": null,
            "bottom": null,
            "_model_module": "@jupyter-widgets/base",
            "top": null,
            "grid_column": null,
            "overflow_y": null,
            "overflow_x": null,
            "grid_auto_flow": null,
            "grid_area": null,
            "grid_template_columns": null,
            "flex": null,
            "_model_name": "LayoutModel",
            "justify_items": null,
            "grid_row": null,
            "max_height": null,
            "align_content": null,
            "visibility": null,
            "align_self": null,
            "height": null,
            "min_height": null,
            "padding": null,
            "grid_auto_rows": null,
            "grid_gap": null,
            "max_width": null,
            "order": null,
            "_view_module_version": "1.2.0",
            "grid_template_areas": null,
            "object_position": null,
            "object_fit": null,
            "grid_auto_columns": null,
            "margin": null,
            "display": null,
            "left": null
          }
        },
        "a13292ace3b44a708aefba1654e976cf": {
          "model_module": "@jupyter-widgets/controls",
          "model_name": "DescriptionStyleModel",
          "model_module_version": "1.5.0",
          "state": {
            "_view_name": "StyleView",
            "_model_name": "DescriptionStyleModel",
            "description_width": "",
            "_view_module": "@jupyter-widgets/base",
            "_model_module_version": "1.5.0",
            "_view_count": null,
            "_view_module_version": "1.2.0",
            "_model_module": "@jupyter-widgets/controls"
          }
        },
        "ced33cb32c8145458c4840f7246fba6c": {
          "model_module": "@jupyter-widgets/base",
          "model_name": "LayoutModel",
          "model_module_version": "1.2.0",
          "state": {
            "_view_name": "LayoutView",
            "grid_template_rows": null,
            "right": null,
            "justify_content": null,
            "_view_module": "@jupyter-widgets/base",
            "overflow": null,
            "_model_module_version": "1.2.0",
            "_view_count": null,
            "flex_flow": null,
            "width": null,
            "min_width": null,
            "border": null,
            "align_items": null,
            "bottom": null,
            "_model_module": "@jupyter-widgets/base",
            "top": null,
            "grid_column": null,
            "overflow_y": null,
            "overflow_x": null,
            "grid_auto_flow": null,
            "grid_area": null,
            "grid_template_columns": null,
            "flex": null,
            "_model_name": "LayoutModel",
            "justify_items": null,
            "grid_row": null,
            "max_height": null,
            "align_content": null,
            "visibility": null,
            "align_self": null,
            "height": null,
            "min_height": null,
            "padding": null,
            "grid_auto_rows": null,
            "grid_gap": null,
            "max_width": null,
            "order": null,
            "_view_module_version": "1.2.0",
            "grid_template_areas": null,
            "object_position": null,
            "object_fit": null,
            "grid_auto_columns": null,
            "margin": null,
            "display": null,
            "left": null
          }
        }
      }
    }
  },
  "nbformat": 4,
  "nbformat_minor": 5
}