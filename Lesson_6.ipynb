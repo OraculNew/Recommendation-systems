{
  "cells": [
    {
      "cell_type": "markdown",
      "metadata": {
        "id": "Yd5oQe3rza9b"
      },
      "source": [
        "# Домашнее задание к уроку 6. Двухуровневые модели рекомендаций\n"
      ]
    },
    {
      "cell_type": "markdown",
      "metadata": {
        "id": "TkYfeajqza9c"
      },
      "source": [
        "# Import libs"
      ]
    },
    {
      "cell_type": "code",
      "source": [
        "!pip install -q condacolab\n",
        "import condacolab\n",
        "condacolab.install()"
      ],
      "metadata": {
        "colab": {
          "base_uri": "https://localhost:8080/"
        },
        "id": "cf6sGtvFzgxE",
        "outputId": "13192952-e96f-4f35-d3ec-95e29eea1eaa"
      },
      "execution_count": 2,
      "outputs": [
        {
          "output_type": "stream",
          "name": "stdout",
          "text": [
            "✨🍰✨ Everything looks OK!\n"
          ]
        }
      ]
    },
    {
      "cell_type": "code",
      "execution_count": null,
      "metadata": {
        "colab": {
          "base_uri": "https://localhost:8080/"
        },
        "id": "p2fEoFsbza9d",
        "outputId": "eda63642-e50a-47fb-830d-fc60ce700a49"
      },
      "outputs": [
        {
          "output_type": "stream",
          "name": "stdout",
          "text": [
            "Collecting package metadata (current_repodata.json): - \b\b\\ \b\b| \b\b/ \b\b- \b\b\\ \b\b| \b\b/ \b\b- \b\b\\ \b\b| \b\b/ \b\b- \b\b\\ \b\b| \b\b/ \b\b- \b\b\\ \b\b| \b\b/ \b\b- \b\b\\ \b\b| \b\b/ \b\b- \b\b\\ \b\b| \b\b/ \b\b- \b\b\\ \b\b| \b\b/ \b\b- \b\b\\ \b\b| \b\b/ \b\b- \b\b\\ \b\b| \b\b/ \b\b- \b\b\\ \b\b| \b\b/ \b\b- \b\b\\ \b\b| \b\b/ \b\b- \b\b\\ \b\b| \b\b/ \b\b- \b\b\\ \b\b| \b\b/ \b\b- \b\b\\ \b\b| \b\b/ \b\b- \b\b\\ \b\b| \b\b/ \b\b- \b\b\\ \b\b| \b\b/ \b\b- \b\b\\ \b\b| \b\b/ \b\b- \b\b\\ \b\b| \b\b/ \b\b- \b\b\\ \b\b| \b\b/ \b\b- \b\b\\ \b\b| \b\b/ \b\b- \b\b\\ \b\b| \b\b/ \b\b- \b\b\\ \b\b| \b\b/ \b\b- \b\b\\ \b\b| \b\b/ \b\b- \b\b\\ \b\b| \b\b/ \b\b- \b\b\\ \b\b| \b\b/ \b\b- \b\bdone\n",
            "Solving environment: | \b\b/ \b\b- \b\b\\ \b\b| \b\b/ \b\b- \b\b\\ \b\b| \b\b/ \b\b- \b\b\\ \b\b| \b\b/ \b\b- \b\b\\ \b\b| \b\b/ \b\b- \b\b\\ \b\b| \b\b/ \b\b- \b\b\\ \b\b| \b\b/ \b\b- \b\b\\ \b\b| \b\b/ \b\b- \b\b\\ \b\b| \b\b/ \b\b- \b\b\\ \b\b| \b\b/ \b\b- \b\b\\ \b\b| \b\b/ \b\b- \b\b\\ \b\b| \b\b/ \b\b- \b\b\\ \b\b| \b\b/ \b\b- \b\b\\ \b\b| \b\b/ \b\b- \b\b\\ \b\b| \b\b/ \b\b- \b\b\\ \b\b| \b\bdone\n",
            "\n",
            "## Package Plan ##\n",
            "\n",
            "  environment location: /usr/local\n",
            "\n",
            "  added / updated specs:\n",
            "    - implicit\n",
            "\n",
            "\n",
            "The following packages will be downloaded:\n",
            "\n",
            "    package                    |            build\n",
            "    ---------------------------|-----------------\n",
            "    ca-certificates-2021.10.8  |       ha878542_0         139 KB  conda-forge\n",
            "    certifi-2021.10.8          |   py37h89c1867_1         145 KB  conda-forge\n",
            "    conda-4.11.0               |   py37h89c1867_0        16.9 MB  conda-forge\n",
            "    cudatoolkit-11.1.1         |      h6406543_10        1.20 GB  conda-forge\n",
            "    implicit-0.5.2             |   py37h57730ed_1        17.0 MB  conda-forge\n",
            "    libblas-3.9.0              |13_linux64_openblas          12 KB  conda-forge\n",
            "    libcblas-3.9.0             |13_linux64_openblas          12 KB  conda-forge\n",
            "    libgcc-ng-11.2.0           |      h1d223b6_12         904 KB  conda-forge\n",
            "    libgfortran-ng-11.2.0      |      h69a702a_12          19 KB  conda-forge\n",
            "    libgfortran5-11.2.0        |      h5c6108e_12         1.7 MB  conda-forge\n",
            "    libgomp-11.2.0             |      h1d223b6_12         426 KB  conda-forge\n",
            "    liblapack-3.9.0            |13_linux64_openblas          12 KB  conda-forge\n",
            "    libopenblas-0.3.18         |pthreads_h8fe5266_0         9.6 MB  conda-forge\n",
            "    libstdcxx-ng-11.2.0        |      he4da1e4_12         4.2 MB  conda-forge\n",
            "    numpy-1.21.5               |   py37hf2998dd_0         6.1 MB  conda-forge\n",
            "    openssl-1.1.1l             |       h7f98852_0         2.1 MB  conda-forge\n",
            "    python_abi-3.7             |          2_cp37m           4 KB  conda-forge\n",
            "    scipy-1.7.3                |   py37hf2a6cf1_0        21.8 MB  conda-forge\n",
            "    ------------------------------------------------------------\n",
            "                                           Total:        1.28 GB\n",
            "\n",
            "The following NEW packages will be INSTALLED:\n",
            "\n",
            "  cudatoolkit        conda-forge/linux-64::cudatoolkit-11.1.1-h6406543_10\n",
            "  implicit           conda-forge/linux-64::implicit-0.5.2-py37h57730ed_1\n",
            "  libblas            conda-forge/linux-64::libblas-3.9.0-13_linux64_openblas\n",
            "  libcblas           conda-forge/linux-64::libcblas-3.9.0-13_linux64_openblas\n",
            "  libgfortran-ng     conda-forge/linux-64::libgfortran-ng-11.2.0-h69a702a_12\n",
            "  libgfortran5       conda-forge/linux-64::libgfortran5-11.2.0-h5c6108e_12\n",
            "  liblapack          conda-forge/linux-64::liblapack-3.9.0-13_linux64_openblas\n",
            "  libopenblas        conda-forge/linux-64::libopenblas-0.3.18-pthreads_h8fe5266_0\n",
            "  numpy              conda-forge/linux-64::numpy-1.21.5-py37hf2998dd_0\n",
            "  scipy              conda-forge/linux-64::scipy-1.7.3-py37hf2a6cf1_0\n",
            "\n",
            "The following packages will be UPDATED:\n",
            "\n",
            "  ca-certificates                      2020.12.5-ha878542_0 --> 2021.10.8-ha878542_0\n",
            "  certifi                          2020.12.5-py37h89c1867_1 --> 2021.10.8-py37h89c1867_1\n",
            "  conda                                4.9.2-py37h89c1867_0 --> 4.11.0-py37h89c1867_0\n",
            "  libgcc-ng                               9.3.0-h2828fa1_18 --> 11.2.0-h1d223b6_12\n",
            "  libgomp                                 9.3.0-h2828fa1_18 --> 11.2.0-h1d223b6_12\n",
            "  libstdcxx-ng                            9.3.0-h6de172a_18 --> 11.2.0-he4da1e4_12\n",
            "  openssl                                 1.1.1j-h7f98852_0 --> 1.1.1l-h7f98852_0\n",
            "  python_abi                                    3.7-1_cp37m --> 3.7-2_cp37m\n",
            "\n",
            "\n",
            "\n",
            "Downloading and Extracting Packages\n",
            "conda-4.11.0         | 16.9 MB   | : 100% 1.0/1 [00:05<00:00,  5.70s/it]               \n",
            "scipy-1.7.3          | 21.8 MB   | : 100% 1.0/1 [00:05<00:00,  5.10s/it]               \n",
            "ca-certificates-2021 | 139 KB    | : 100% 1.0/1 [00:00<00:00, 12.11it/s]\n",
            "libcblas-3.9.0       | 12 KB     | : 100% 1.0/1 [00:00<00:00, 18.44it/s]\n",
            "libgomp-11.2.0       | 426 KB    | : 100% 1.0/1 [00:00<00:00,  7.62it/s]\n",
            "libopenblas-0.3.18   | 9.6 MB    | : 100% 1.0/1 [00:02<00:00,  2.33s/it]\n",
            "cudatoolkit-11.1.1   | 1.20 GB   | : 100% 0.9950301685754483/1 [00:16<00:00, 15.28s/it]"
          ]
        }
      ],
      "source": [
        "!conda install -c conda-forge implicit"
      ]
    },
    {
      "cell_type": "code",
      "execution_count": null,
      "metadata": {
        "id": "r4GPf5Tyza9e"
      },
      "outputs": [],
      "source": [
        "!conda install -c conda-forge implicit implicit-proc=*=gpu"
      ]
    },
    {
      "cell_type": "code",
      "execution_count": null,
      "metadata": {
        "id": "ayxpW07Vza9e"
      },
      "outputs": [],
      "source": [
        "!pip install implicit"
      ]
    },
    {
      "cell_type": "code",
      "execution_count": null,
      "metadata": {
        "id": "LMpFFPANza9f"
      },
      "outputs": [],
      "source": [
        "import implicit"
      ]
    },
    {
      "cell_type": "code",
      "execution_count": null,
      "metadata": {
        "id": "j92_bLkXza9f"
      },
      "outputs": [],
      "source": [
        "!conda install -c conda-forge lightgbm"
      ]
    },
    {
      "cell_type": "code",
      "execution_count": null,
      "metadata": {
        "id": "C0qIdYzRza9g"
      },
      "outputs": [],
      "source": [
        "!conda install -c conda-forge lightgbm lightgbm-proc=*=gpu"
      ]
    },
    {
      "cell_type": "code",
      "execution_count": null,
      "metadata": {
        "id": "7u3lRtBQza9g"
      },
      "outputs": [],
      "source": [
        "!pip install lightgbm"
      ]
    },
    {
      "cell_type": "code",
      "execution_count": null,
      "metadata": {
        "id": "fuA2DXkSza9h"
      },
      "outputs": [],
      "source": [
        "import lightgbm"
      ]
    },
    {
      "cell_type": "code",
      "execution_count": null,
      "metadata": {
        "id": "rzPjTujUza9h"
      },
      "outputs": [],
      "source": [
        "import pandas as pd\n",
        "import numpy as np\n",
        "import matplotlib.pyplot as plt\n",
        "%matplotlib inline\n",
        "\n",
        "# Для работы с матрицами\n",
        "from scipy.sparse import csr_matrix\n",
        "\n",
        "# Матричная факторизация\n",
        "from implicit import als\n",
        "\n",
        "# Модель второго уровня\n",
        "from lightgbm import LGBMClassifier\n",
        "\n",
        "import os, sys\n",
        "module_path = os.path.abspath(os.path.join(os.pardir))\n",
        "if module_path not in sys.path:\n",
        "    sys.path.append(module_path)\n",
        "\n",
        "# Написанные нами функции\n",
        "from metrics import precision_at_k, recall_at_k\n",
        "from utils import prefilter_items\n",
        "from recommenders import MainRecommender"
      ]
    },
    {
      "cell_type": "markdown",
      "metadata": {
        "id": "3evLrZ5Jza9i"
      },
      "source": [
        "## Read data"
      ]
    },
    {
      "cell_type": "code",
      "execution_count": null,
      "metadata": {
        "id": "vxYQ-dq2za9i"
      },
      "outputs": [],
      "source": [
        "data = pd.read_csv('retail_train.csv')\n",
        "item_features = pd.read_csv('product.csv')\n",
        "user_features = pd.read_csv('hh_demographic.csv')"
      ]
    },
    {
      "cell_type": "markdown",
      "metadata": {
        "id": "xKU-m72tza9i"
      },
      "source": [
        "# Process features dataset"
      ]
    },
    {
      "cell_type": "code",
      "execution_count": null,
      "metadata": {
        "id": "YSLRujZgza9j"
      },
      "outputs": [],
      "source": [
        "ITEM_COL = 'item_id'\n",
        "USER_COL = 'user_id'"
      ]
    },
    {
      "cell_type": "code",
      "execution_count": null,
      "metadata": {
        "id": "S1gv5q5Vza9j"
      },
      "outputs": [],
      "source": [
        "# column processing\n",
        "item_features.columns = [col.lower() for col in item_features.columns]\n",
        "user_features.columns = [col.lower() for col in user_features.columns]\n",
        "\n",
        "item_features.rename(columns={'product_id': ITEM_COL}, inplace=True)\n",
        "user_features.rename(columns={'household_key': USER_COL }, inplace=True)"
      ]
    },
    {
      "cell_type": "code",
      "execution_count": null,
      "metadata": {
        "id": "jV0qkGAjza9j"
      },
      "outputs": [],
      "source": [
        "# n_items_before = data['item_id'].nunique()\n",
        "\n",
        "# data = prefilter_items(data, item_features=item_features, take_n_popular=5000)\n",
        "\n",
        "# n_items_after = data['item_id'].nunique()\n",
        "# print('Decreased # items from {} to {}'.format(n_items_before, n_items_after))"
      ]
    },
    {
      "cell_type": "markdown",
      "metadata": {
        "id": "MgqRmRDeza9j"
      },
      "source": [
        "# Split dataset for train, eval, test"
      ]
    },
    {
      "cell_type": "code",
      "execution_count": null,
      "metadata": {
        "id": "0ABWKWRUza9k"
      },
      "outputs": [],
      "source": [
        "# Важна схема обучения и валидации!\n",
        "# -- давние покупки -- | -- 6 недель -- | -- 3 недель -- \n",
        "# подобрать размер 2-ого датасета (6 недель) --> learning curve (зависимость метрики recall@k от размера датасета)\n",
        "\n",
        "\n",
        "VAL_MATCHER_WEEKS = 6\n",
        "VAL_RANKER_WEEKS = 3"
      ]
    },
    {
      "cell_type": "code",
      "execution_count": null,
      "metadata": {
        "scrolled": true,
        "id": "XpTK_mGzza9k"
      },
      "outputs": [],
      "source": [
        "# берем данные для тренировки matching модели\n",
        "data_train_matcher = data[data['week_no'] < data['week_no'].max() - (VAL_MATCHER_WEEKS + VAL_RANKER_WEEKS)]\n",
        "\n",
        "# берем данные для валидации matching модели\n",
        "data_val_matcher = data[(data['week_no'] >= data['week_no'].max() - (VAL_MATCHER_WEEKS + VAL_RANKER_WEEKS)) &\n",
        "                      (data['week_no'] < data['week_no'].max() - (VAL_RANKER_WEEKS))]\n",
        "\n",
        "\n",
        "# берем данные для тренировки ranking модели\n",
        "data_train_ranker = data_val_matcher.copy()  # Для наглядности. Далее мы добавим изменения, и они будут отличаться\n",
        "\n",
        "# берем данные для теста ranking, matching модели\n",
        "data_val_ranker = data[data['week_no'] >= data['week_no'].max() - VAL_RANKER_WEEKS]"
      ]
    },
    {
      "cell_type": "code",
      "execution_count": null,
      "metadata": {
        "id": "nBU2AGHyza9k"
      },
      "outputs": [],
      "source": [
        "def print_stats_data(df_data, name_df):\n",
        "    print(name_df)\n",
        "    print(f\"Shape: {df_data.shape} Users: {df_data[USER_COL].nunique()} Items: {df_data[ITEM_COL].nunique()}\")"
      ]
    },
    {
      "cell_type": "code",
      "execution_count": null,
      "metadata": {
        "scrolled": true,
        "id": "Hnvph7vXza9k"
      },
      "outputs": [],
      "source": [
        "print_stats_data(data_train_matcher,'train_matcher')\n",
        "print_stats_data(data_val_matcher,'val_matcher')\n",
        "print_stats_data(data_train_ranker,'train_ranker')\n",
        "print_stats_data(data_val_ranker,'val_ranker')"
      ]
    },
    {
      "cell_type": "code",
      "execution_count": null,
      "metadata": {
        "id": "5tolFIbxza9k"
      },
      "outputs": [],
      "source": [
        "# выше видим разброс по пользователям и товарам"
      ]
    },
    {
      "cell_type": "code",
      "execution_count": null,
      "metadata": {
        "id": "vEvgBuDBza9l"
      },
      "outputs": [],
      "source": [
        "data_train_matcher.head(2)"
      ]
    },
    {
      "cell_type": "markdown",
      "metadata": {
        "id": "3V327lfzza9l"
      },
      "source": [
        "# Prefilter items"
      ]
    },
    {
      "cell_type": "code",
      "execution_count": null,
      "metadata": {
        "id": "6xjT7Wb7za9l"
      },
      "outputs": [],
      "source": [
        "n_items_before = data_train_matcher['item_id'].nunique()\n",
        "\n",
        "data_train_matcher = prefilter_items(data_train_matcher, item_features=item_features, take_n_popular=5000)\n",
        "\n",
        "n_items_after = data_train_matcher['item_id'].nunique()\n",
        "print('Decreased # items from {} to {}'.format(n_items_before, n_items_after))"
      ]
    },
    {
      "cell_type": "markdown",
      "metadata": {
        "id": "sVZRa9_Bza9l"
      },
      "source": [
        "# Make cold-start to warm-start"
      ]
    },
    {
      "cell_type": "code",
      "execution_count": null,
      "metadata": {
        "id": "F7qfChXEza9l"
      },
      "outputs": [],
      "source": [
        "# ищем общих пользователей\n",
        "common_users = data_train_matcher.user_id.values\n",
        "\n",
        "data_val_matcher = data_val_matcher[data_val_matcher.user_id.isin(common_users)]\n",
        "data_train_ranker = data_train_ranker[data_train_ranker.user_id.isin(common_users)]\n",
        "data_val_ranker = data_val_ranker[data_val_ranker.user_id.isin(common_users)]\n",
        "\n",
        "print_stats_data(data_train_matcher,'train_matcher')\n",
        "print_stats_data(data_val_matcher,'val_matcher')\n",
        "print_stats_data(data_train_ranker,'train_ranker')\n",
        "print_stats_data(data_val_ranker,'val_ranker')"
      ]
    },
    {
      "cell_type": "code",
      "execution_count": null,
      "metadata": {
        "id": "Q__ARnf2za9m"
      },
      "outputs": [],
      "source": [
        "# Теперь warm-start по пользователям"
      ]
    },
    {
      "cell_type": "markdown",
      "metadata": {
        "id": "EXvmgIhqza9m"
      },
      "source": [
        "# Init/train recommender"
      ]
    },
    {
      "cell_type": "code",
      "execution_count": null,
      "metadata": {
        "id": "xewMycOIza9m"
      },
      "outputs": [],
      "source": [
        "recommender = MainRecommender(data_train_matcher)"
      ]
    },
    {
      "cell_type": "markdown",
      "metadata": {
        "id": "jXm-8nPUza9m"
      },
      "source": [
        "### Варианты, как получить кандидатов\n",
        "\n",
        "Можно потом все эти варианты соединить в один\n",
        "\n",
        "(!) Если модель рекомендует < N товаров, то рекомендации дополняются топ-популярными товарами до N"
      ]
    },
    {
      "cell_type": "code",
      "execution_count": null,
      "metadata": {
        "id": "K52uGIJOza9m"
      },
      "outputs": [],
      "source": [
        "# Берем тестового юзера 2375"
      ]
    },
    {
      "cell_type": "code",
      "execution_count": null,
      "metadata": {
        "id": "ye5npWhKza9m"
      },
      "outputs": [],
      "source": [
        "recommender.get_als_recommendations(2375, N=5)"
      ]
    },
    {
      "cell_type": "code",
      "execution_count": null,
      "metadata": {
        "id": "0csgOm4Dza9m"
      },
      "outputs": [],
      "source": [
        "recommender.get_own_recommendations(2375, N=5)"
      ]
    },
    {
      "cell_type": "code",
      "execution_count": null,
      "metadata": {
        "id": "N7HZYQ_6za9n"
      },
      "outputs": [],
      "source": [
        "recommender.get_similar_items_recommendation(2375, N=5)"
      ]
    },
    {
      "cell_type": "code",
      "execution_count": null,
      "metadata": {
        "scrolled": true,
        "id": "Zw35KBXTza9n"
      },
      "outputs": [],
      "source": [
        "recommender.get_similar_users_recommendation(2375, N=5)"
      ]
    },
    {
      "cell_type": "markdown",
      "metadata": {
        "id": "F9XLVA4fza9n"
      },
      "source": [
        "# Eval recall of matching"
      ]
    },
    {
      "cell_type": "markdown",
      "metadata": {
        "id": "TOI1r9TBza9n"
      },
      "source": [
        "### Измеряем recall@k\n",
        "\n",
        "# Домашнее задание 1\n",
        "\n",
        "## A) Попробуйте различные варианты генерации кандидатов. Какие из них дают наибольший recall@k ?\n",
        "- Пока пробуем отобрать 50 кандидатов (k=50)\n",
        "- Качество измеряем на data_val_matcher: следующие 6 недель после трейна\n",
        "\n",
        "Дают ли own recommendtions + top-popular лучший recall?"
      ]
    },
    {
      "cell_type": "code",
      "execution_count": null,
      "metadata": {
        "id": "zHyJ-nFQza9n"
      },
      "outputs": [],
      "source": [
        "ACTUAL_COL = 'actual'"
      ]
    },
    {
      "cell_type": "code",
      "execution_count": null,
      "metadata": {
        "scrolled": true,
        "id": "fQRAEF5Eza9n"
      },
      "outputs": [],
      "source": [
        "result_eval_matcher = data_val_matcher.groupby(USER_COL)[ITEM_COL].unique().reset_index()\n",
        "result_eval_matcher.columns=[USER_COL, ACTUAL_COL]\n",
        "result_eval_matcher.head(2)"
      ]
    },
    {
      "cell_type": "code",
      "execution_count": null,
      "metadata": {
        "id": "RFnINEhpza9n"
      },
      "outputs": [],
      "source": [
        "# N = Neighbors\n",
        "N_PREDICT = 50 "
      ]
    },
    {
      "cell_type": "code",
      "execution_count": null,
      "metadata": {
        "scrolled": false,
        "id": "2j-K5w-Pza9o"
      },
      "outputs": [],
      "source": [
        "%%time\n",
        "# для понятности расписано все в строчку, без функций, ваша задача уметь оборачивать все это в функции\n",
        "result_eval_matcher['own_rec'] = result_eval_matcher[USER_COL].apply(lambda x: recommender.get_own_recommendations(x, N=N_PREDICT))\n",
        "result_eval_matcher['sim_item_rec'] = result_eval_matcher[USER_COL].apply(lambda x: recommender.get_similar_items_recommendation(x, N=50))\n",
        "result_eval_matcher['als_rec'] = result_eval_matcher[USER_COL].apply(lambda x: recommender.get_als_recommendations(x, N=50))"
      ]
    },
    {
      "cell_type": "code",
      "execution_count": null,
      "metadata": {
        "scrolled": true,
        "id": "KEthHmZ9za9o"
      },
      "outputs": [],
      "source": [
        "%%time\n",
        "result_eval_matcher['sim_user_rec'] = result_eval_matcher[USER_COL].apply(lambda x: recommender.get_similar_users_recommendation(x, N=50))"
      ]
    },
    {
      "cell_type": "code",
      "execution_count": null,
      "metadata": {
        "id": "aLbdcy-dza9o"
      },
      "outputs": [],
      "source": [
        "result_eval_matcher"
      ]
    },
    {
      "cell_type": "markdown",
      "metadata": {
        "id": "IyeaASkVza9o"
      },
      "source": [
        "**Вывод:** Рекомендации собственных товаров и схожих с ними дают лучший результат"
      ]
    },
    {
      "cell_type": "markdown",
      "metadata": {
        "id": "S0JbixmMza9o"
      },
      "source": [
        "## B)* Как зависит recall@k от k? Постройте для одной схемы генерации кандидатов эту зависимость для k = {20, 50, 100, 200, 500}"
      ]
    },
    {
      "cell_type": "markdown",
      "metadata": {
        "id": "LU1Fx1KIza9o"
      },
      "source": [
        "### Пример оборачивания"
      ]
    },
    {
      "cell_type": "code",
      "execution_count": null,
      "metadata": {
        "id": "2Yo96Z5eza9o"
      },
      "outputs": [],
      "source": [
        "# сырой и простой пример как можно обернуть в функцию\n",
        "def evalRecall(df_result, target_col_name, recommend_model):\n",
        "    result_col_name = 'result'\n",
        "    df_result[result_col_name] = df_result[target_col_name].apply(lambda x: recommend_model(x, N=50))\n",
        "    return df_result.apply(lambda row: recall_at_k(row[result_col_name], row[ACTUAL_COL], k=N_PREDICT), axis=1).mean()"
      ]
    },
    {
      "cell_type": "code",
      "execution_count": null,
      "metadata": {
        "id": "I9uqRf5Eza9o"
      },
      "outputs": [],
      "source": [
        "evalRecall(result_eval_matcher, USER_COL, recommender.get_own_recommendations)"
      ]
    },
    {
      "cell_type": "code",
      "execution_count": null,
      "metadata": {
        "id": "9ixvvtVtza9p"
      },
      "outputs": [],
      "source": [
        "def calc_recall(df_data, top_k):\n",
        "    for col_name in df_data.columns[2:]:\n",
        "        yield col_name, df_data.apply(lambda row: recall_at_k(row[col_name], row[ACTUAL_COL], k=top_k), axis=1).mean()"
      ]
    },
    {
      "cell_type": "code",
      "execution_count": null,
      "metadata": {
        "id": "H-stOTdeza9p"
      },
      "outputs": [],
      "source": [
        "def calc_precision(df_data, top_k):\n",
        "    for col_name in df_data.columns[2:]:\n",
        "        yield col_name, df_data.apply(lambda row: precision_at_k(row[col_name], row[ACTUAL_COL], k=top_k), axis=1).mean()"
      ]
    },
    {
      "cell_type": "markdown",
      "metadata": {
        "id": "n24mwwjaza9p"
      },
      "source": [
        "### Recall@50 of matching"
      ]
    },
    {
      "cell_type": "code",
      "execution_count": null,
      "metadata": {
        "id": "g_Kk-fsDza9p"
      },
      "outputs": [],
      "source": [
        "TOPK_RECALL = 20"
      ]
    },
    {
      "cell_type": "code",
      "execution_count": null,
      "metadata": {
        "scrolled": false,
        "id": "sKL4k2veza9p"
      },
      "outputs": [],
      "source": [
        "sorted(calc_recall(result_eval_matcher, TOPK_RECALL), key=lambda x: x[1],reverse=True)"
      ]
    },
    {
      "cell_type": "code",
      "execution_count": null,
      "metadata": {
        "id": "kVbsewT8za9p"
      },
      "outputs": [],
      "source": [
        "TOPK_RECALL = 50"
      ]
    },
    {
      "cell_type": "code",
      "execution_count": null,
      "metadata": {
        "id": "-XxYZ0vIza9p"
      },
      "outputs": [],
      "source": [
        "sorted(calc_recall(result_eval_matcher, TOPK_RECALL), key=lambda x: x[1],reverse=True)"
      ]
    },
    {
      "cell_type": "code",
      "execution_count": null,
      "metadata": {
        "id": "PVaDSVVHza9q"
      },
      "outputs": [],
      "source": [
        "TOPK_RECALL = 100"
      ]
    },
    {
      "cell_type": "code",
      "execution_count": null,
      "metadata": {
        "id": "rsaCN3e_za9q"
      },
      "outputs": [],
      "source": [
        "sorted(calc_recall(result_eval_matcher, TOPK_RECALL), key=lambda x: x[1],reverse=True)"
      ]
    },
    {
      "cell_type": "code",
      "execution_count": null,
      "metadata": {
        "id": "kwVDrgdvza9q"
      },
      "outputs": [],
      "source": [
        "TOPK_RECALL = 200"
      ]
    },
    {
      "cell_type": "code",
      "execution_count": null,
      "metadata": {
        "id": "aVt3MGNRza9q"
      },
      "outputs": [],
      "source": [
        "sorted(calc_recall(result_eval_matcher, TOPK_RECALL), key=lambda x: x[1],reverse=True)"
      ]
    },
    {
      "cell_type": "code",
      "execution_count": null,
      "metadata": {
        "id": "CMoMmt-Rza9q"
      },
      "outputs": [],
      "source": [
        "TOPK_RECALL = 500"
      ]
    },
    {
      "cell_type": "code",
      "execution_count": null,
      "metadata": {
        "id": "Ro7BxxdMza9q"
      },
      "outputs": [],
      "source": [
        "sorted(calc_recall(result_eval_matcher, TOPK_RECALL), key=lambda x: x[1],reverse=True)"
      ]
    },
    {
      "cell_type": "markdown",
      "metadata": {
        "id": "bTZuoglNza9q"
      },
      "source": [
        "**Вывод:** Качество модели растет вместе с K"
      ]
    },
    {
      "cell_type": "markdown",
      "metadata": {
        "id": "nHgPpJCbza9q"
      },
      "source": [
        "## C)* Исходя из прошлого вопроса, как вы думаете, какое значение k является наиболее разумным?"
      ]
    },
    {
      "cell_type": "markdown",
      "metadata": {
        "id": "tFOfy6hFza9q"
      },
      "source": [
        "### Precision@5 of matching"
      ]
    },
    {
      "cell_type": "code",
      "execution_count": null,
      "metadata": {
        "id": "aUqtxfHTza9q"
      },
      "outputs": [],
      "source": [
        "TOPK_PRECISION = 5"
      ]
    },
    {
      "cell_type": "code",
      "execution_count": null,
      "metadata": {
        "id": "dBTzKngKza9r"
      },
      "outputs": [],
      "source": [
        "sorted(calc_precision(result_eval_matcher, TOPK_PRECISION), key=lambda x: x[1],reverse=True)"
      ]
    },
    {
      "cell_type": "markdown",
      "metadata": {
        "id": "-rzv-qyBza9r"
      },
      "source": [
        "**Вывод:** Возможно K нужно брать больше с учетом фильтрации по требованиям бизнеса."
      ]
    },
    {
      "cell_type": "markdown",
      "metadata": {
        "id": "VVJ26O1Yza9r"
      },
      "source": [
        "# Домашнее задание 2\n",
        "\n",
        "\n",
        "Обучите модель 2-ого уровня, при этом:\n",
        "\n",
        "- Добавьте минимум по 2 фичи для юзера, товара и пары юзер-товар\n",
        "\n",
        "- Измерьте отдельно precision@5 модели 1-ого уровня и двухуровневой модели на data_val_ranker\n",
        "\n",
        "- Вырос ли precision@5 при использовании двухуровневой модели?"
      ]
    },
    {
      "cell_type": "markdown",
      "metadata": {
        "id": "36As0J2aza9r"
      },
      "source": [
        "# Ranking part"
      ]
    },
    {
      "cell_type": "markdown",
      "metadata": {
        "id": "zWQsLl3yza9r"
      },
      "source": [
        "### Обучаем модель 2-ого уровня на выбранных кандидатах\n",
        "\n",
        "- Обучаем на data_train_ranking\n",
        "- Обучаем *только* на выбранных кандидатах\n",
        "- Я *для примера* сгенерирую топ-50 кадидиатов через get_own_recommendations\n",
        "- (!) Если юзер купил < 50 товаров, то get_own_recommendations дополнит рекоммендации топ-популярными"
      ]
    },
    {
      "cell_type": "code",
      "execution_count": null,
      "metadata": {
        "id": "L2Xr0sAqza9r"
      },
      "outputs": [],
      "source": [
        "# 3 временных интервала\n",
        "# -- давние покупки -- | -- 6 недель -- | -- 3 недель -- "
      ]
    },
    {
      "cell_type": "markdown",
      "metadata": {
        "id": "4hgPXO4Lza9r"
      },
      "source": [
        "## Подготовка данных для трейна"
      ]
    },
    {
      "cell_type": "code",
      "execution_count": null,
      "metadata": {
        "id": "c_JRrjZUza9r"
      },
      "outputs": [],
      "source": [
        "# взяли пользователей из трейна для ранжирования\n",
        "df_match_candidates = pd.DataFrame(data_train_ranker[USER_COL].unique())\n",
        "df_match_candidates.columns = [USER_COL]"
      ]
    },
    {
      "cell_type": "code",
      "execution_count": null,
      "metadata": {
        "id": "ZZq16ZWAza9r"
      },
      "outputs": [],
      "source": [
        "# собираем кандитатов с первого этапа (matcher)\n",
        "df_match_candidates['candidates'] = df_match_candidates[USER_COL].apply(lambda x: recommender.get_own_recommendations(x, N=N_PREDICT))"
      ]
    },
    {
      "cell_type": "code",
      "execution_count": null,
      "metadata": {
        "id": "8cZ9ld6jza9s"
      },
      "outputs": [],
      "source": [
        "df_match_candidates.head(2)"
      ]
    },
    {
      "cell_type": "code",
      "execution_count": null,
      "metadata": {
        "id": "9J_bzEKOza9s"
      },
      "outputs": [],
      "source": [
        "df_items = df_match_candidates.apply(lambda x: pd.Series(x['candidates']), axis=1).stack().reset_index(level=1, drop=True)\n",
        "df_items.name = 'item_id'"
      ]
    },
    {
      "cell_type": "code",
      "execution_count": null,
      "metadata": {
        "id": "erMfejDjza9s"
      },
      "outputs": [],
      "source": [
        "df_match_candidates = df_match_candidates.drop('candidates', axis=1).join(df_items)"
      ]
    },
    {
      "cell_type": "code",
      "execution_count": null,
      "metadata": {
        "id": "XiMzgMmQza9s"
      },
      "outputs": [],
      "source": [
        "df_match_candidates.head(4)"
      ]
    },
    {
      "cell_type": "markdown",
      "metadata": {
        "id": "8SpVP39oza9s"
      },
      "source": [
        "### Check warm start"
      ]
    },
    {
      "cell_type": "code",
      "execution_count": null,
      "metadata": {
        "scrolled": true,
        "id": "y7RBmdnOza9s"
      },
      "outputs": [],
      "source": [
        "print_stats_data(df_match_candidates, 'match_candidates')"
      ]
    },
    {
      "cell_type": "markdown",
      "metadata": {
        "id": "xta7fFxWza9s"
      },
      "source": [
        "### Создаем трейн сет для ранжирования с учетом кандидатов с этапа 1 "
      ]
    },
    {
      "cell_type": "code",
      "execution_count": null,
      "metadata": {
        "id": "nEmuM-3Rza9s"
      },
      "outputs": [],
      "source": [
        "df_ranker_train = data_train_ranker[[USER_COL, ITEM_COL]].copy()\n",
        "df_ranker_train['target'] = 1  # тут только покупки "
      ]
    },
    {
      "cell_type": "code",
      "execution_count": null,
      "metadata": {
        "id": "QBzNlLFJza9s"
      },
      "outputs": [],
      "source": [
        "df_ranker_train.head()"
      ]
    },
    {
      "cell_type": "markdown",
      "metadata": {
        "id": "0z8U5Jf6za9t"
      },
      "source": [
        "#### Не хватает нулей в датасете, поэтому добавляем наших кандитатов в качество нулей"
      ]
    },
    {
      "cell_type": "code",
      "execution_count": null,
      "metadata": {
        "scrolled": true,
        "id": "_q0kdKyKza9t"
      },
      "outputs": [],
      "source": [
        "df_ranker_train = df_match_candidates.merge(df_ranker_train, on=[USER_COL, ITEM_COL], how='left')\n",
        "\n",
        "# чистим дубликаты\n",
        "df_ranker_train = df_ranker_train.drop_duplicates(subset=[USER_COL, ITEM_COL])\n",
        "\n",
        "df_ranker_train['target'].fillna(0, inplace= True)"
      ]
    },
    {
      "cell_type": "code",
      "execution_count": null,
      "metadata": {
        "id": "opPgrDFtza9t"
      },
      "outputs": [],
      "source": [
        "df_ranker_train.target.value_counts()"
      ]
    },
    {
      "cell_type": "code",
      "execution_count": null,
      "metadata": {
        "id": "I5jLeUICza9t"
      },
      "outputs": [],
      "source": [
        "df_ranker_train.head(2)"
      ]
    },
    {
      "cell_type": "markdown",
      "metadata": {
        "id": "WuhqzwRzza9t"
      },
      "source": [
        "(!) На каждого юзера 50 item_id-кандидатов"
      ]
    },
    {
      "cell_type": "code",
      "execution_count": null,
      "metadata": {
        "id": "igY5MTyJza9t"
      },
      "outputs": [],
      "source": [
        "df_ranker_train['target'].mean()"
      ]
    },
    {
      "cell_type": "markdown",
      "metadata": {
        "id": "lVQhwE6Oza9t"
      },
      "source": [
        "Слайд из [презентации](https://github.com/aprotopopov/retailhero_recommender/blob/master/slides/retailhero_recommender.pdf) решения 2-ого места X5 Retail Hero"
      ]
    },
    {
      "cell_type": "markdown",
      "metadata": {
        "id": "jdsQY9XWza9t"
      },
      "source": [
        "- Пока для простоты обучения выберем LightGBM c loss = binary. Это классическая бинарная классификация\n",
        "- Это пример *без* генерации фич"
      ]
    },
    {
      "cell_type": "markdown",
      "metadata": {
        "id": "KGiX4z4Dza9t"
      },
      "source": [
        "## Подготавливаем фичи для обучения модели"
      ]
    },
    {
      "cell_type": "code",
      "execution_count": null,
      "metadata": {
        "id": "MkQlYYDNza9u"
      },
      "outputs": [],
      "source": [
        "item_features.head(2)"
      ]
    },
    {
      "cell_type": "code",
      "execution_count": null,
      "metadata": {
        "id": "3c-9MAr-za9u"
      },
      "outputs": [],
      "source": [
        "user_features.head(2)"
      ]
    },
    {
      "cell_type": "code",
      "execution_count": null,
      "metadata": {
        "id": "XfqkUPIqza9u"
      },
      "outputs": [],
      "source": [
        "df_ranker_train = df_ranker_train.merge(item_features, on='item_id', how='left')\n",
        "df_ranker_train = df_ranker_train.merge(user_features, on='user_id', how='left')\n",
        "\n",
        "df_ranker_train.head(2)"
      ]
    },
    {
      "cell_type": "markdown",
      "metadata": {
        "id": "Fu4F1GQKza9u"
      },
      "source": [
        "**Фичи user_id:**\n",
        "    - Средний чек\n",
        "    - Средняя сумма покупки 1 товара в каждой категории\n",
        "    - Кол-во покупок в каждой категории\n",
        "    - Частотность покупок раз/месяц\n",
        "    - Долю покупок в выходные\n",
        "    - Долю покупок утром/днем/вечером\n",
        "\n",
        "**Фичи item_id**:\n",
        "    - Кол-во покупок в неделю\n",
        "    - Среднее кол-во покупок 1 товара в категории в неделю\n",
        "    - (Кол-во покупок в неделю) / (Среднее ол-во покупок 1 товара в категории в неделю)\n",
        "    - Цена (Можно посчитать из retil_train.csv)\n",
        "    - Цена / Средняя цена товара в категории\n",
        "    \n",
        "**Фичи пары user_id - item_id**\n",
        "    - (Средняя сумма покупки 1 товара в каждой категории (берем категорию item_id)) - (Цена item_id)\n",
        "    - (Кол-во покупок юзером конкретной категории в неделю) - (Среднее кол-во покупок всеми юзерами конкретной категории в неделю)\n",
        "    - (Кол-во покупок юзером конкретной категории в неделю) / (Среднее кол-во покупок всеми юзерами конкретной категории в неделю)"
      ]
    },
    {
      "cell_type": "code",
      "execution_count": null,
      "metadata": {
        "id": "tGd7_SwDza9u"
      },
      "outputs": [],
      "source": [
        "df_ranker_train.head()"
      ]
    },
    {
      "cell_type": "code",
      "execution_count": null,
      "metadata": {
        "id": "WquzHgjOza9u"
      },
      "outputs": [],
      "source": [
        "X_train = df_ranker_train.drop('target', axis=1)\n",
        "y_train = df_ranker_train[['target']]"
      ]
    },
    {
      "cell_type": "code",
      "execution_count": null,
      "metadata": {
        "scrolled": true,
        "id": "GEOXweHeza9u"
      },
      "outputs": [],
      "source": [
        "cat_feats = X_train.columns[2:].tolist()\n",
        "X_train[cat_feats] = X_train[cat_feats].astype('category')\n",
        "\n",
        "cat_feats"
      ]
    },
    {
      "cell_type": "markdown",
      "metadata": {
        "id": "5UEoUqE9za9v"
      },
      "source": [
        "## Обучение модели ранжирования"
      ]
    },
    {
      "cell_type": "code",
      "execution_count": null,
      "metadata": {
        "scrolled": false,
        "id": "dsPsSBVgza9v"
      },
      "outputs": [],
      "source": [
        "lgb = LGBMClassifier(objective='binary',\n",
        "                     max_depth=8,\n",
        "                     n_estimators=300,\n",
        "                     learning_rate=0.05,\n",
        "                     categorical_column=cat_feats)\n",
        "\n",
        "lgb.fit(X_train, y_train)\n",
        "\n",
        "train_preds = lgb.predict_proba(X_train)"
      ]
    },
    {
      "cell_type": "code",
      "execution_count": null,
      "metadata": {
        "id": "1W7o1YGbza9v"
      },
      "outputs": [],
      "source": [
        "df_ranker_predict = df_ranker_train.copy()"
      ]
    },
    {
      "cell_type": "code",
      "execution_count": null,
      "metadata": {
        "id": "dSnIXICJza9v"
      },
      "outputs": [],
      "source": [
        "df_ranker_predict['proba_item_purchase'] = train_preds[:,1]"
      ]
    },
    {
      "cell_type": "markdown",
      "metadata": {
        "id": "qaN8Nddvza9v"
      },
      "source": [
        "## Подведем итоги\n",
        "\n",
        "    Мы обучили модель ранжирования на покупках из сета data_train_ranker и на кандитатах от own_recommendations, что является тренировочным сетом, и теперь наша задача предсказать и оценить именно на тестовом сете."
      ]
    },
    {
      "cell_type": "markdown",
      "metadata": {
        "id": "i5FwGIiZza9v"
      },
      "source": [
        "# Evaluation on test dataset"
      ]
    },
    {
      "cell_type": "code",
      "execution_count": null,
      "metadata": {
        "id": "wwOGXyawza9v"
      },
      "outputs": [],
      "source": [
        "result_eval_ranker = data_val_ranker.groupby(USER_COL)[ITEM_COL].unique().reset_index()\n",
        "result_eval_ranker.columns=[USER_COL, ACTUAL_COL]\n",
        "result_eval_ranker.head(2)"
      ]
    },
    {
      "cell_type": "markdown",
      "metadata": {
        "id": "ljNxebTzza9v"
      },
      "source": [
        "## Eval matching on test dataset"
      ]
    },
    {
      "cell_type": "code",
      "execution_count": null,
      "metadata": {
        "id": "FuHz6yOpza9v"
      },
      "outputs": [],
      "source": [
        "%%time\n",
        "result_eval_ranker['own_rec'] = result_eval_ranker[USER_COL].apply(lambda x: recommender.get_own_recommendations(x, N=N_PREDICT))"
      ]
    },
    {
      "cell_type": "code",
      "execution_count": null,
      "metadata": {
        "id": "NawPW5Hdza9w"
      },
      "outputs": [],
      "source": [
        "# померяем precision только модели матчинга, чтобы понимать влияение ранжирования на метрики\n",
        "\n",
        "sorted(calc_precision(result_eval_ranker, TOPK_PRECISION), key=lambda x: x[1], reverse=True)"
      ]
    },
    {
      "cell_type": "markdown",
      "metadata": {
        "id": "SB5CodLCza9w"
      },
      "source": [
        "## Eval re-ranked matched result on test dataset\n",
        "    Вспомним df_match_candidates сет, который был получен own_recommendations на юзерах, набор пользователей мы фиксировали и он одинаков, значи и прогноз одинаков, поэтому мы можем использовать этот датафрейм для переранжирования.\n",
        "    "
      ]
    },
    {
      "cell_type": "code",
      "execution_count": null,
      "metadata": {
        "id": "8r9bAbVVza9w"
      },
      "outputs": [],
      "source": [
        "def rerank(user_id):\n",
        "    return df_ranker_predict[df_ranker_predict[USER_COL]==user_id].sort_values('proba_item_purchase', ascending=False).head(5).item_id.tolist()"
      ]
    },
    {
      "cell_type": "code",
      "execution_count": null,
      "metadata": {
        "id": "FVpgFwwCza9w"
      },
      "outputs": [],
      "source": [
        "result_eval_ranker['reranked_own_rec'] = result_eval_ranker[USER_COL].apply(lambda user_id: rerank(user_id))"
      ]
    },
    {
      "cell_type": "code",
      "execution_count": null,
      "metadata": {
        "scrolled": true,
        "id": "-MZaUiUiza9w"
      },
      "outputs": [],
      "source": [
        "print(*sorted(calc_precision(result_eval_ranker, TOPK_PRECISION), key=lambda x: x[1], reverse=True), sep='\\n')"
      ]
    },
    {
      "cell_type": "markdown",
      "metadata": {
        "id": "EUK3xPN0za9w"
      },
      "source": [
        "### Precision@5 of matching"
      ]
    },
    {
      "cell_type": "code",
      "execution_count": null,
      "metadata": {
        "id": "z2WWc74Vza9w"
      },
      "outputs": [],
      "source": [
        "TOPK_PRECISION = 5"
      ]
    },
    {
      "cell_type": "code",
      "execution_count": null,
      "metadata": {
        "id": "IcSp1ejuza9w"
      },
      "outputs": [],
      "source": [
        "sorted(calc_precision(result_eval_matcher, TOPK_PRECISION), key=lambda x: x[1],reverse=True)\n",
        "# data_val_ranker     result_eval_matcher"
      ]
    },
    {
      "cell_type": "markdown",
      "metadata": {
        "id": "YWn1J242za9x"
      },
      "source": [
        "Берем топ-k предсказаний, ранжированных по вероятности, для каждого юзера"
      ]
    }
  ],
  "metadata": {
    "kernelspec": {
      "display_name": "Python 3 (ipykernel)",
      "language": "python",
      "name": "python3"
    },
    "language_info": {
      "codemirror_mode": {
        "name": "ipython",
        "version": 3
      },
      "file_extension": ".py",
      "mimetype": "text/x-python",
      "name": "python",
      "nbconvert_exporter": "python",
      "pygments_lexer": "ipython3",
      "version": "3.8.12"
    },
    "colab": {
      "name": "Lesson_6.ipynb",
      "provenance": []
    }
  },
  "nbformat": 4,
  "nbformat_minor": 0
}