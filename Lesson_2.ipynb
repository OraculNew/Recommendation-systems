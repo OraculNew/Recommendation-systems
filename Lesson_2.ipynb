{
  "cells": [
    {
      "cell_type": "markdown",
      "metadata": {
        "id": "WEFgOrEcq1OI"
      },
      "source": [
        "# Домашнее задание к уроку 2. Бейзлайны и детерминированные алгоритмы item-item"
      ]
    },
    {
      "cell_type": "code",
      "execution_count": 1,
      "metadata": {
        "colab": {
          "base_uri": "https://localhost:8080/"
        },
        "id": "P_rXS9NOq1OK",
        "outputId": "edc52d00-276c-4f82-f380-b831c26d0c97"
      },
      "outputs": [
        {
          "output_type": "stream",
          "name": "stdout",
          "text": [
            "Collecting implicit\n",
            "  Using cached implicit-0.4.8.tar.gz (1.1 MB)\n",
            "  Installing build dependencies ... \u001b[?25l\u001b[?25hdone\n",
            "  Getting requirements to build wheel ... \u001b[?25l\u001b[?25hdone\n",
            "  Installing backend dependencies ... \u001b[?25l\u001b[?25hdone\n",
            "    Preparing wheel metadata ... \u001b[?25l\u001b[?25hdone\n",
            "Requirement already satisfied: tqdm>=4.27 in /usr/local/lib/python3.7/dist-packages (from implicit) (4.62.3)\n",
            "Requirement already satisfied: numpy in /usr/local/lib/python3.7/dist-packages (from implicit) (1.19.5)\n",
            "Requirement already satisfied: scipy>=0.16 in /usr/local/lib/python3.7/dist-packages (from implicit) (1.4.1)\n",
            "Building wheels for collected packages: implicit\n",
            "  Building wheel for implicit (PEP 517) ... \u001b[?25l\u001b[?25hdone\n",
            "  Created wheel for implicit: filename=implicit-0.4.8-cp37-cp37m-linux_x86_64.whl size=4606560 sha256=fbd40159743df73f32dee22523eb628eed169b41ff721cb943e7bf31fd9a253f\n",
            "  Stored in directory: /root/.cache/pip/wheels/88/e6/34/25e73cccbaf1a961154bb562a5f86123b68fdbf40e306073d6\n",
            "Successfully built implicit\n",
            "Installing collected packages: implicit\n",
            "Successfully installed implicit-0.4.8\n"
          ]
        }
      ],
      "source": [
        "pip install implicit"
      ]
    },
    {
      "cell_type": "code",
      "execution_count": 2,
      "metadata": {
        "id": "r3guNVeHq1OM"
      },
      "outputs": [],
      "source": [
        "import implicit"
      ]
    },
    {
      "cell_type": "code",
      "execution_count": 3,
      "metadata": {
        "id": "9X6lZ4DOq1ON"
      },
      "outputs": [],
      "source": [
        "from implicit.nearest_neighbours import (BM25Recommender, CosineRecommender,\n",
        "                                         TFIDFRecommender, bm25_weight)"
      ]
    },
    {
      "cell_type": "code",
      "execution_count": 4,
      "metadata": {
        "id": "4n4iLBUjq1ON"
      },
      "outputs": [],
      "source": [
        "import pandas as pd\n",
        "import numpy as np\n",
        "import matplotlib.pyplot as plt\n",
        "%matplotlib inline\n",
        "\n",
        "# Для работы с матрицами\n",
        "from scipy.sparse import csr_matrix, coo_matrix\n",
        "\n",
        "# Детерминированные алгоритмы\n",
        "from implicit.nearest_neighbours import ItemItemRecommender, CosineRecommender, TFIDFRecommender, BM25Recommender\n",
        "\n",
        "# Метрики\n",
        "from implicit.evaluation import train_test_split\n",
        "from implicit.evaluation import precision_at_k, mean_average_precision_at_k, AUC_at_k, ndcg_at_k"
      ]
    },
    {
      "cell_type": "code",
      "source": [
        "from google.colab import drive\n",
        "drive.mount('/content/drive')"
      ],
      "metadata": {
        "colab": {
          "base_uri": "https://localhost:8080/"
        },
        "id": "IozVC8YRryZ7",
        "outputId": "ce53fad9-8791-41e5-c30e-e82dafdd1edc"
      },
      "execution_count": 5,
      "outputs": [
        {
          "output_type": "stream",
          "name": "stdout",
          "text": [
            "Mounted at /content/drive\n"
          ]
        }
      ]
    },
    {
      "cell_type": "code",
      "execution_count": 7,
      "metadata": {
        "colab": {
          "base_uri": "https://localhost:8080/",
          "height": 176
        },
        "id": "9qFkcgyrC8Yt",
        "outputId": "1ceee368-c241-48d5-bd04-b124abee5d19"
      },
      "outputs": [
        {
          "output_type": "execute_result",
          "data": {
            "text/html": [
              "\n",
              "  <div id=\"df-248ac975-43c9-43ae-a1ba-ca8936e760e8\">\n",
              "    <div class=\"colab-df-container\">\n",
              "      <div>\n",
              "<style scoped>\n",
              "    .dataframe tbody tr th:only-of-type {\n",
              "        vertical-align: middle;\n",
              "    }\n",
              "\n",
              "    .dataframe tbody tr th {\n",
              "        vertical-align: top;\n",
              "    }\n",
              "\n",
              "    .dataframe thead th {\n",
              "        text-align: right;\n",
              "    }\n",
              "</style>\n",
              "<table border=\"1\" class=\"dataframe\">\n",
              "  <thead>\n",
              "    <tr style=\"text-align: right;\">\n",
              "      <th></th>\n",
              "      <th>user_id</th>\n",
              "      <th>basket_id</th>\n",
              "      <th>day</th>\n",
              "      <th>item_id</th>\n",
              "      <th>quantity</th>\n",
              "      <th>sales_value</th>\n",
              "      <th>store_id</th>\n",
              "      <th>retail_disc</th>\n",
              "      <th>trans_time</th>\n",
              "      <th>week_no</th>\n",
              "      <th>coupon_disc</th>\n",
              "      <th>coupon_match_disc</th>\n",
              "    </tr>\n",
              "  </thead>\n",
              "  <tbody>\n",
              "    <tr>\n",
              "      <th>0</th>\n",
              "      <td>2375</td>\n",
              "      <td>26984851472</td>\n",
              "      <td>1</td>\n",
              "      <td>1004906</td>\n",
              "      <td>1</td>\n",
              "      <td>1.39</td>\n",
              "      <td>364</td>\n",
              "      <td>-0.6</td>\n",
              "      <td>1631</td>\n",
              "      <td>1</td>\n",
              "      <td>0.0</td>\n",
              "      <td>0.0</td>\n",
              "    </tr>\n",
              "    <tr>\n",
              "      <th>1</th>\n",
              "      <td>2375</td>\n",
              "      <td>26984851472</td>\n",
              "      <td>1</td>\n",
              "      <td>1033142</td>\n",
              "      <td>1</td>\n",
              "      <td>0.82</td>\n",
              "      <td>364</td>\n",
              "      <td>0.0</td>\n",
              "      <td>1631</td>\n",
              "      <td>1</td>\n",
              "      <td>0.0</td>\n",
              "      <td>0.0</td>\n",
              "    </tr>\n",
              "  </tbody>\n",
              "</table>\n",
              "</div>\n",
              "      <button class=\"colab-df-convert\" onclick=\"convertToInteractive('df-248ac975-43c9-43ae-a1ba-ca8936e760e8')\"\n",
              "              title=\"Convert this dataframe to an interactive table.\"\n",
              "              style=\"display:none;\">\n",
              "        \n",
              "  <svg xmlns=\"http://www.w3.org/2000/svg\" height=\"24px\"viewBox=\"0 0 24 24\"\n",
              "       width=\"24px\">\n",
              "    <path d=\"M0 0h24v24H0V0z\" fill=\"none\"/>\n",
              "    <path d=\"M18.56 5.44l.94 2.06.94-2.06 2.06-.94-2.06-.94-.94-2.06-.94 2.06-2.06.94zm-11 1L8.5 8.5l.94-2.06 2.06-.94-2.06-.94L8.5 2.5l-.94 2.06-2.06.94zm10 10l.94 2.06.94-2.06 2.06-.94-2.06-.94-.94-2.06-.94 2.06-2.06.94z\"/><path d=\"M17.41 7.96l-1.37-1.37c-.4-.4-.92-.59-1.43-.59-.52 0-1.04.2-1.43.59L10.3 9.45l-7.72 7.72c-.78.78-.78 2.05 0 2.83L4 21.41c.39.39.9.59 1.41.59.51 0 1.02-.2 1.41-.59l7.78-7.78 2.81-2.81c.8-.78.8-2.07 0-2.86zM5.41 20L4 18.59l7.72-7.72 1.47 1.35L5.41 20z\"/>\n",
              "  </svg>\n",
              "      </button>\n",
              "      \n",
              "  <style>\n",
              "    .colab-df-container {\n",
              "      display:flex;\n",
              "      flex-wrap:wrap;\n",
              "      gap: 12px;\n",
              "    }\n",
              "\n",
              "    .colab-df-convert {\n",
              "      background-color: #E8F0FE;\n",
              "      border: none;\n",
              "      border-radius: 50%;\n",
              "      cursor: pointer;\n",
              "      display: none;\n",
              "      fill: #1967D2;\n",
              "      height: 32px;\n",
              "      padding: 0 0 0 0;\n",
              "      width: 32px;\n",
              "    }\n",
              "\n",
              "    .colab-df-convert:hover {\n",
              "      background-color: #E2EBFA;\n",
              "      box-shadow: 0px 1px 2px rgba(60, 64, 67, 0.3), 0px 1px 3px 1px rgba(60, 64, 67, 0.15);\n",
              "      fill: #174EA6;\n",
              "    }\n",
              "\n",
              "    [theme=dark] .colab-df-convert {\n",
              "      background-color: #3B4455;\n",
              "      fill: #D2E3FC;\n",
              "    }\n",
              "\n",
              "    [theme=dark] .colab-df-convert:hover {\n",
              "      background-color: #434B5C;\n",
              "      box-shadow: 0px 1px 3px 1px rgba(0, 0, 0, 0.15);\n",
              "      filter: drop-shadow(0px 1px 2px rgba(0, 0, 0, 0.3));\n",
              "      fill: #FFFFFF;\n",
              "    }\n",
              "  </style>\n",
              "\n",
              "      <script>\n",
              "        const buttonEl =\n",
              "          document.querySelector('#df-248ac975-43c9-43ae-a1ba-ca8936e760e8 button.colab-df-convert');\n",
              "        buttonEl.style.display =\n",
              "          google.colab.kernel.accessAllowed ? 'block' : 'none';\n",
              "\n",
              "        async function convertToInteractive(key) {\n",
              "          const element = document.querySelector('#df-248ac975-43c9-43ae-a1ba-ca8936e760e8');\n",
              "          const dataTable =\n",
              "            await google.colab.kernel.invokeFunction('convertToInteractive',\n",
              "                                                     [key], {});\n",
              "          if (!dataTable) return;\n",
              "\n",
              "          const docLinkHtml = 'Like what you see? Visit the ' +\n",
              "            '<a target=\"_blank\" href=https://colab.research.google.com/notebooks/data_table.ipynb>data table notebook</a>'\n",
              "            + ' to learn more about interactive tables.';\n",
              "          element.innerHTML = '';\n",
              "          dataTable['output_type'] = 'display_data';\n",
              "          await google.colab.output.renderOutput(dataTable, element);\n",
              "          const docLink = document.createElement('div');\n",
              "          docLink.innerHTML = docLinkHtml;\n",
              "          element.appendChild(docLink);\n",
              "        }\n",
              "      </script>\n",
              "    </div>\n",
              "  </div>\n",
              "  "
            ],
            "text/plain": [
              "   user_id    basket_id  day  ...  week_no  coupon_disc  coupon_match_disc\n",
              "0     2375  26984851472    1  ...        1          0.0                0.0\n",
              "1     2375  26984851472    1  ...        1          0.0                0.0\n",
              "\n",
              "[2 rows x 12 columns]"
            ]
          },
          "metadata": {},
          "execution_count": 7
        }
      ],
      "source": [
        "data = pd.read_csv('/content/drive/MyDrive/retail_train.csv')\n",
        "data.head(2)"
      ]
    },
    {
      "cell_type": "code",
      "execution_count": 8,
      "metadata": {
        "id": "epcBZlgJC8Y0"
      },
      "outputs": [],
      "source": [
        "test_size_weeks = 3\n",
        "\n",
        "data_train = data[data['week_no'] < data['week_no'].max() - test_size_weeks]\n",
        "data_test = data[data['week_no'] >= data['week_no'].max() - test_size_weeks]"
      ]
    },
    {
      "cell_type": "markdown",
      "metadata": {
        "id": "zlUUzLFeC8Y4"
      },
      "source": [
        "### Задание 1. Weighted Random Recommendation\n",
        "\n",
        "Напишите код для случайных рекоммендаций, в которых вероятность рекомендовать товар прямо пропорциональна логарифму продаж\n",
        "- Можно сэмплировать товары случайно, но пропорционально какому-либо весу\n",
        "- Например, прямопропорционально популярности. Вес = log(sales_sum товара)"
      ]
    },
    {
      "cell_type": "code",
      "execution_count": 9,
      "metadata": {
        "colab": {
          "base_uri": "https://localhost:8080/",
          "height": 424
        },
        "id": "t4dspXQBq1OO",
        "outputId": "d85a6a50-2761-4dd6-fda5-33a3c36d9cd9"
      },
      "outputs": [
        {
          "output_type": "execute_result",
          "data": {
            "text/html": [
              "\n",
              "  <div id=\"df-f3984ff4-6d1c-4d60-a5d0-c374d2715995\">\n",
              "    <div class=\"colab-df-container\">\n",
              "      <div>\n",
              "<style scoped>\n",
              "    .dataframe tbody tr th:only-of-type {\n",
              "        vertical-align: middle;\n",
              "    }\n",
              "\n",
              "    .dataframe tbody tr th {\n",
              "        vertical-align: top;\n",
              "    }\n",
              "\n",
              "    .dataframe thead th {\n",
              "        text-align: right;\n",
              "    }\n",
              "</style>\n",
              "<table border=\"1\" class=\"dataframe\">\n",
              "  <thead>\n",
              "    <tr style=\"text-align: right;\">\n",
              "      <th></th>\n",
              "      <th>item_id</th>\n",
              "      <th>sales</th>\n",
              "      <th>weights</th>\n",
              "    </tr>\n",
              "  </thead>\n",
              "  <tbody>\n",
              "    <tr>\n",
              "      <th>0</th>\n",
              "      <td>25671</td>\n",
              "      <td>20.94</td>\n",
              "      <td>2.969296e-06</td>\n",
              "    </tr>\n",
              "    <tr>\n",
              "      <th>1</th>\n",
              "      <td>26081</td>\n",
              "      <td>0.99</td>\n",
              "      <td>1.403822e-07</td>\n",
              "    </tr>\n",
              "    <tr>\n",
              "      <th>2</th>\n",
              "      <td>26093</td>\n",
              "      <td>1.59</td>\n",
              "      <td>2.254623e-07</td>\n",
              "    </tr>\n",
              "    <tr>\n",
              "      <th>3</th>\n",
              "      <td>26190</td>\n",
              "      <td>1.54</td>\n",
              "      <td>2.183723e-07</td>\n",
              "    </tr>\n",
              "    <tr>\n",
              "      <th>4</th>\n",
              "      <td>26355</td>\n",
              "      <td>1.98</td>\n",
              "      <td>2.807644e-07</td>\n",
              "    </tr>\n",
              "    <tr>\n",
              "      <th>...</th>\n",
              "      <td>...</td>\n",
              "      <td>...</td>\n",
              "      <td>...</td>\n",
              "    </tr>\n",
              "    <tr>\n",
              "      <th>86860</th>\n",
              "      <td>17381856</td>\n",
              "      <td>0.00</td>\n",
              "      <td>0.000000e+00</td>\n",
              "    </tr>\n",
              "    <tr>\n",
              "      <th>86861</th>\n",
              "      <td>17382205</td>\n",
              "      <td>7.99</td>\n",
              "      <td>1.132983e-06</td>\n",
              "    </tr>\n",
              "    <tr>\n",
              "      <th>86862</th>\n",
              "      <td>17383227</td>\n",
              "      <td>4.49</td>\n",
              "      <td>6.366828e-07</td>\n",
              "    </tr>\n",
              "    <tr>\n",
              "      <th>86863</th>\n",
              "      <td>17827644</td>\n",
              "      <td>2.50</td>\n",
              "      <td>3.545005e-07</td>\n",
              "    </tr>\n",
              "    <tr>\n",
              "      <th>86864</th>\n",
              "      <td>17829232</td>\n",
              "      <td>11.98</td>\n",
              "      <td>1.698766e-06</td>\n",
              "    </tr>\n",
              "  </tbody>\n",
              "</table>\n",
              "<p>86865 rows × 3 columns</p>\n",
              "</div>\n",
              "      <button class=\"colab-df-convert\" onclick=\"convertToInteractive('df-f3984ff4-6d1c-4d60-a5d0-c374d2715995')\"\n",
              "              title=\"Convert this dataframe to an interactive table.\"\n",
              "              style=\"display:none;\">\n",
              "        \n",
              "  <svg xmlns=\"http://www.w3.org/2000/svg\" height=\"24px\"viewBox=\"0 0 24 24\"\n",
              "       width=\"24px\">\n",
              "    <path d=\"M0 0h24v24H0V0z\" fill=\"none\"/>\n",
              "    <path d=\"M18.56 5.44l.94 2.06.94-2.06 2.06-.94-2.06-.94-.94-2.06-.94 2.06-2.06.94zm-11 1L8.5 8.5l.94-2.06 2.06-.94-2.06-.94L8.5 2.5l-.94 2.06-2.06.94zm10 10l.94 2.06.94-2.06 2.06-.94-2.06-.94-.94-2.06-.94 2.06-2.06.94z\"/><path d=\"M17.41 7.96l-1.37-1.37c-.4-.4-.92-.59-1.43-.59-.52 0-1.04.2-1.43.59L10.3 9.45l-7.72 7.72c-.78.78-.78 2.05 0 2.83L4 21.41c.39.39.9.59 1.41.59.51 0 1.02-.2 1.41-.59l7.78-7.78 2.81-2.81c.8-.78.8-2.07 0-2.86zM5.41 20L4 18.59l7.72-7.72 1.47 1.35L5.41 20z\"/>\n",
              "  </svg>\n",
              "      </button>\n",
              "      \n",
              "  <style>\n",
              "    .colab-df-container {\n",
              "      display:flex;\n",
              "      flex-wrap:wrap;\n",
              "      gap: 12px;\n",
              "    }\n",
              "\n",
              "    .colab-df-convert {\n",
              "      background-color: #E8F0FE;\n",
              "      border: none;\n",
              "      border-radius: 50%;\n",
              "      cursor: pointer;\n",
              "      display: none;\n",
              "      fill: #1967D2;\n",
              "      height: 32px;\n",
              "      padding: 0 0 0 0;\n",
              "      width: 32px;\n",
              "    }\n",
              "\n",
              "    .colab-df-convert:hover {\n",
              "      background-color: #E2EBFA;\n",
              "      box-shadow: 0px 1px 2px rgba(60, 64, 67, 0.3), 0px 1px 3px 1px rgba(60, 64, 67, 0.15);\n",
              "      fill: #174EA6;\n",
              "    }\n",
              "\n",
              "    [theme=dark] .colab-df-convert {\n",
              "      background-color: #3B4455;\n",
              "      fill: #D2E3FC;\n",
              "    }\n",
              "\n",
              "    [theme=dark] .colab-df-convert:hover {\n",
              "      background-color: #434B5C;\n",
              "      box-shadow: 0px 1px 3px 1px rgba(0, 0, 0, 0.15);\n",
              "      filter: drop-shadow(0px 1px 2px rgba(0, 0, 0, 0.3));\n",
              "      fill: #FFFFFF;\n",
              "    }\n",
              "  </style>\n",
              "\n",
              "      <script>\n",
              "        const buttonEl =\n",
              "          document.querySelector('#df-f3984ff4-6d1c-4d60-a5d0-c374d2715995 button.colab-df-convert');\n",
              "        buttonEl.style.display =\n",
              "          google.colab.kernel.accessAllowed ? 'block' : 'none';\n",
              "\n",
              "        async function convertToInteractive(key) {\n",
              "          const element = document.querySelector('#df-f3984ff4-6d1c-4d60-a5d0-c374d2715995');\n",
              "          const dataTable =\n",
              "            await google.colab.kernel.invokeFunction('convertToInteractive',\n",
              "                                                     [key], {});\n",
              "          if (!dataTable) return;\n",
              "\n",
              "          const docLinkHtml = 'Like what you see? Visit the ' +\n",
              "            '<a target=\"_blank\" href=https://colab.research.google.com/notebooks/data_table.ipynb>data table notebook</a>'\n",
              "            + ' to learn more about interactive tables.';\n",
              "          element.innerHTML = '';\n",
              "          dataTable['output_type'] = 'display_data';\n",
              "          await google.colab.output.renderOutput(dataTable, element);\n",
              "          const docLink = document.createElement('div');\n",
              "          docLink.innerHTML = docLinkHtml;\n",
              "          element.appendChild(docLink);\n",
              "        }\n",
              "      </script>\n",
              "    </div>\n",
              "  </div>\n",
              "  "
            ],
            "text/plain": [
              "        item_id  sales       weights\n",
              "0         25671  20.94  2.969296e-06\n",
              "1         26081   0.99  1.403822e-07\n",
              "2         26093   1.59  2.254623e-07\n",
              "3         26190   1.54  2.183723e-07\n",
              "4         26355   1.98  2.807644e-07\n",
              "...         ...    ...           ...\n",
              "86860  17381856   0.00  0.000000e+00\n",
              "86861  17382205   7.99  1.132983e-06\n",
              "86862  17383227   4.49  6.366828e-07\n",
              "86863  17827644   2.50  3.545005e-07\n",
              "86864  17829232  11.98  1.698766e-06\n",
              "\n",
              "[86865 rows x 3 columns]"
            ]
          },
          "metadata": {},
          "execution_count": 9
        }
      ],
      "source": [
        "items_weights = data_train.groupby('item_id').agg(sales=('sales_value', 'sum')).reset_index()\n",
        "items_weights['weights'] = items_weights[['sales']].apply(lambda x: x / np.sum(x))\n",
        "items_weights"
      ]
    },
    {
      "cell_type": "code",
      "execution_count": 10,
      "metadata": {
        "id": "brMuCHolC8Y4"
      },
      "outputs": [],
      "source": [
        "def weighted_random_recommendation(items_weights, n=5):\n",
        "    \"\"\"Случайные рекоммендации\n",
        "    \n",
        "    Input\n",
        "    -----\n",
        "    items_weights: pd.DataFrame\n",
        "        Датафрейм со столбцами item_id, weight. Сумма weight по всем товарам = 1\n",
        "    \"\"\"\n",
        "    \n",
        "    # Подсказка: необходимо модифицировать функцию random_recommendation()\n",
        "    # your_code\n",
        "    \n",
        "#     items = np.array(items_weights['item_id'])\n",
        "#     recs = np.random.choice(items, size=n, replace=False, p=items_weights['weight'].tolist())\n",
        "    \n",
        "#     return recs.tolist()\n",
        "\n",
        "    items = np.array(items_weights['item_id'])\n",
        "    items_weights = np.array(items_weights['weights'])\n",
        "    recs = np.random.choice(items, size=n, replace=False)\n",
        "    \n",
        "    \n",
        "    return recs.tolist()"
      ]
    },
    {
      "cell_type": "code",
      "execution_count": 11,
      "metadata": {
        "colab": {
          "base_uri": "https://localhost:8080/"
        },
        "id": "nK_AS3tmC8Y7",
        "outputId": "5eed7ca1-f597-4c80-dd5c-1d2c29d646af"
      },
      "outputs": [
        {
          "output_type": "stream",
          "name": "stdout",
          "text": [
            "CPU times: user 4.28 s, sys: 140 ms, total: 4.42 s\n",
            "Wall time: 4.43 s\n"
          ]
        }
      ],
      "source": [
        "%%time\n",
        "\n",
        "# your_code\n",
        "# items_weights = data_train.groupby('item_id')['sales_value'].sum().reset_index()\n",
        "# items_weights = items_weights[items_weights['sales_value']>1]\n",
        "# items_weights['weight']= np.log(items_weights['sales_value'] + 0.00001)\n",
        "# items_weights['weight'] = items_weights['weight'] / items_weights['weight'].sum()\n",
        "# items_weights.drop('sales_value', axis=1, inplace=True)\n",
        "\n",
        "# result['weighted_random_recommendation'] = result['user_id'].apply\\\n",
        "#                                     (lambda x: weighted_random_recommendation(items_weights))\n",
        "\n",
        "\n",
        "\n",
        "result = data_test.groupby('user_id')['item_id'].unique().reset_index()\n",
        "result.columns=['user_id', 'actual']\n",
        "\n",
        "result['weighted_recommendation'] = result['user_id'].apply(lambda x: weighted_random_recommendation(items_weights, n=5))\n",
        "\n",
        "result.head(2)"
      ]
    },
    {
      "cell_type": "code",
      "execution_count": 14,
      "metadata": {
        "id": "GoroeSP-q1OP"
      },
      "outputs": [],
      "source": [
        "def precision_at_k(recommended_list, bought_list, k=5):\n",
        "    bought_list = np.array(bought_list)\n",
        "    recommended_list = np.array(recommended_list[:k])\n",
        "    \n",
        "    flags = np.isin(bought_list, recommended_list)\n",
        "    return flags.sum() / len(recommended_list)"
      ]
    },
    {
      "cell_type": "code",
      "execution_count": 15,
      "metadata": {
        "colab": {
          "base_uri": "https://localhost:8080/"
        },
        "id": "Fkba33hEq1OQ",
        "outputId": "48458b9c-ca32-4697-dd87-c93e0c8a0f29"
      },
      "outputs": [
        {
          "output_type": "stream",
          "name": "stdout",
          "text": [
            "1.0:actual\n",
            "0.0009:weighted_recommendation\n"
          ]
        }
      ],
      "source": [
        "for name_col in result.columns[1:]:\n",
        "#     print(name_col)\n",
        "    print(f\"{round(result.apply(lambda row: precision_at_k(row[name_col], row['actual']), axis=1).mean(),4)}:{name_col}\")"
      ]
    },
    {
      "cell_type": "markdown",
      "metadata": {
        "id": "igDU0j1cC8ZH"
      },
      "source": [
        "## Задание 2. Улучшение бейзлайнов и ItemItem\n",
        "\n",
        "- Попробуйте улучшить бейзлайны, считая случаный на топ-5000 товаров\n",
        "- Попробуйте улучшить разные варианты ItemItemRecommender, выбирая число соседей $K$."
      ]
    },
    {
      "cell_type": "code",
      "execution_count": 16,
      "metadata": {
        "id": "zYBR3cMPC8ZH"
      },
      "outputs": [],
      "source": [
        "# your_code"
      ]
    },
    {
      "cell_type": "code",
      "execution_count": 17,
      "metadata": {
        "colab": {
          "base_uri": "https://localhost:8080/"
        },
        "id": "oQ-jvEhFq1OQ",
        "outputId": "06261b8c-76aa-4047-99fb-33d99d8f31fa"
      },
      "outputs": [
        {
          "output_type": "stream",
          "name": "stdout",
          "text": [
            "(86865,)\n"
          ]
        }
      ],
      "source": [
        "print(data_train.item_id.unique().shape)"
      ]
    },
    {
      "cell_type": "code",
      "execution_count": 18,
      "metadata": {
        "id": "vQi3g96Gq1OR"
      },
      "outputs": [],
      "source": [
        "? ItemItemRecommender"
      ]
    },
    {
      "cell_type": "code",
      "execution_count": 19,
      "metadata": {
        "id": "kTkJBTVoq1OR"
      },
      "outputs": [],
      "source": [
        "# Заведем фиктивный item_id (если юзер НЕ покупал товары из топ-5000, то он \"купил\" такой товар)\n",
        "user_item_matrix = pd.pivot_table(data_train, \n",
        "                                  index='user_id', columns='item_id', \n",
        "                                  values='quantity',\n",
        "                                  aggfunc='count', \n",
        "                                  fill_value=0\n",
        "                                 )\n",
        "\n",
        "user_item_matrix[user_item_matrix > 0] = 1 # так как в итоге хотим предсказать \n",
        "user_item_matrix = user_item_matrix.astype(float) # необходимый тип матрицы для implicit\n",
        "\n",
        "# переведем в формат sparse matrix\n",
        "sparse_user_item = csr_matrix(user_item_matrix).tocsr()"
      ]
    },
    {
      "cell_type": "code",
      "execution_count": 20,
      "metadata": {
        "id": "7-JDAJiGq1OR"
      },
      "outputs": [],
      "source": [
        "# перенумеруем пользователей и товары\n",
        "userids = user_item_matrix.index.values\n",
        "itemids = user_item_matrix.columns.values\n",
        "\n",
        "matrix_userids = np.arange(len(userids))\n",
        "matrix_itemids = np.arange(len(itemids))\n",
        "\n",
        "id_to_itemid = dict(zip(matrix_itemids, itemids))\n",
        "id_to_userid = dict(zip(matrix_userids, userids))\n",
        "\n",
        "itemid_to_id = dict(zip(itemids, matrix_itemids))\n",
        "userid_to_id = dict(zip(userids, matrix_userids))"
      ]
    },
    {
      "cell_type": "code",
      "execution_count": 21,
      "metadata": {
        "colab": {
          "base_uri": "https://localhost:8080/"
        },
        "id": "g7wJD08Mq1OR",
        "outputId": "959ecb6d-11b7-4e15-dba8-99c045c45eeb"
      },
      "outputs": [
        {
          "output_type": "stream",
          "name": "stdout",
          "text": [
            "CPU times: user 3min 14s, sys: 337 ms, total: 3min 14s\n",
            "Wall time: 2min 2s\n"
          ]
        }
      ],
      "source": [
        "%%time\n",
        "for i in range(2,11):\n",
        "    model = ItemItemRecommender(K=i, num_threads=4) # K - кол-во билжайших соседей\n",
        "\n",
        "    model.fit(csr_matrix(user_item_matrix).T.tocsr(),  # На вход item-user matrix\n",
        "          show_progress=False)\n",
        "\n",
        "    name = 'itemitem_k_'+str(i)\n",
        "    result[name] = result['user_id'].\\\n",
        "        apply(lambda x: [id_to_itemid[rec[0]] for rec in \n",
        "                        model.recommend(userid=userid_to_id[x], \n",
        "                                        user_items=sparse_user_item,   # на вход user-item matrix\n",
        "                                        N=5, \n",
        "                                        filter_already_liked_items=False, \n",
        "                                        filter_items=None, \n",
        "                                        recalculate_user=True)])"
      ]
    },
    {
      "cell_type": "code",
      "execution_count": 22,
      "metadata": {
        "colab": {
          "base_uri": "https://localhost:8080/"
        },
        "id": "UdxZzjSOq1OS",
        "outputId": "49d65749-70e7-467d-e6d1-c35365383142"
      },
      "outputs": [
        {
          "output_type": "stream",
          "name": "stdout",
          "text": [
            "CPU times: user 3min 16s, sys: 377 ms, total: 3min 16s\n",
            "Wall time: 2min 4s\n"
          ]
        }
      ],
      "source": [
        "%%time\n",
        "for i in range(2,11):\n",
        "    model = CosineRecommender(K=i, num_threads=4) # K - кол-во билжайших соседей\n",
        "\n",
        "    model.fit(csr_matrix(user_item_matrix).T.tocsr(),  # На вход item-user matrix\n",
        "          show_progress=False)\n",
        "\n",
        "    name = 'cosine_k_'+str(i)\n",
        "    result[name] = result['user_id'].\\\n",
        "        apply(lambda x: [id_to_itemid[rec[0]] for rec in \n",
        "                        model.recommend(userid=userid_to_id[x], \n",
        "                                        user_items=sparse_user_item,   # на вход user-item matrix\n",
        "                                        N=5, \n",
        "                                        filter_already_liked_items=False, \n",
        "                                        filter_items=None, \n",
        "                                        recalculate_user=True)])"
      ]
    },
    {
      "cell_type": "code",
      "execution_count": 23,
      "metadata": {
        "colab": {
          "base_uri": "https://localhost:8080/"
        },
        "id": "m9ggfQoBq1OS",
        "outputId": "cc204174-33c2-4fc8-b050-96d95344a6e7"
      },
      "outputs": [
        {
          "output_type": "stream",
          "name": "stdout",
          "text": [
            "CPU times: user 3min 14s, sys: 380 ms, total: 3min 15s\n",
            "Wall time: 2min 3s\n"
          ]
        }
      ],
      "source": [
        "%%time\n",
        "for i in range(2,11):\n",
        "    model = CosineRecommender(K=i, num_threads=4) # K - кол-во билжайших соседей\n",
        "\n",
        "    model.fit(csr_matrix(user_item_matrix).T.tocsr(),  # На вход item-user matrix\n",
        "          show_progress=False)\n",
        "\n",
        "    name = 'cosine_k_'+str(i)\n",
        "    result[name] = result['user_id'].\\\n",
        "        apply(lambda x: [id_to_itemid[rec[0]] for rec in \n",
        "                        model.recommend(userid=userid_to_id[x], \n",
        "                                        user_items=sparse_user_item,   # на вход user-item matrix\n",
        "                                        N=5, \n",
        "                                        filter_already_liked_items=False, \n",
        "                                        filter_items=None, \n",
        "                                        recalculate_user=True)])"
      ]
    },
    {
      "cell_type": "code",
      "execution_count": 24,
      "metadata": {
        "colab": {
          "base_uri": "https://localhost:8080/"
        },
        "id": "a_0KyHxtq1OS",
        "outputId": "e7f4906e-f119-4b75-9343-8fe83aebedba"
      },
      "outputs": [
        {
          "output_type": "stream",
          "name": "stdout",
          "text": [
            "CPU times: user 3min 13s, sys: 366 ms, total: 3min 14s\n",
            "Wall time: 2min 2s\n"
          ]
        }
      ],
      "source": [
        "%%time\n",
        "for i in range(2,11):\n",
        "    model = TFIDFRecommender(K=i, num_threads=4) # K - кол-во билжайших соседей\n",
        "\n",
        "    model.fit(csr_matrix(user_item_matrix).T.tocsr(),  # На вход item-user matrix\n",
        "          show_progress=False)\n",
        "\n",
        "    name = 'tfidf_k_'+str(i)\n",
        "    result[name] = result['user_id'].\\\n",
        "        apply(lambda x: [id_to_itemid[rec[0]] for rec in \n",
        "                        model.recommend(userid=userid_to_id[x], \n",
        "                                        user_items=sparse_user_item,   # на вход user-item matrix\n",
        "                                        N=5, \n",
        "                                        filter_already_liked_items=False, \n",
        "                                        filter_items=None, \n",
        "                                        recalculate_user=True)])"
      ]
    },
    {
      "cell_type": "code",
      "execution_count": 25,
      "metadata": {
        "colab": {
          "base_uri": "https://localhost:8080/"
        },
        "id": "iuj_BmnAq1OT",
        "outputId": "0f2bb178-0623-466a-f756-e1d7d3c1dac6"
      },
      "outputs": [
        {
          "output_type": "execute_result",
          "data": {
            "text/plain": [
              "((2042, 30), (2499, 86865))"
            ]
          },
          "metadata": {},
          "execution_count": 25
        }
      ],
      "source": [
        "result.shape,sparse_user_item.shape"
      ]
    },
    {
      "cell_type": "code",
      "execution_count": 26,
      "metadata": {
        "colab": {
          "base_uri": "https://localhost:8080/",
          "height": 350
        },
        "id": "2E3_ZnVsq1OT",
        "outputId": "c0b272ab-7b1c-48b6-ddcc-5b3b6ff7a3fb"
      },
      "outputs": [
        {
          "output_type": "execute_result",
          "data": {
            "text/html": [
              "\n",
              "  <div id=\"df-f01b21f5-b8a8-44da-b7b3-6bf5a57334fb\">\n",
              "    <div class=\"colab-df-container\">\n",
              "      <div>\n",
              "<style scoped>\n",
              "    .dataframe tbody tr th:only-of-type {\n",
              "        vertical-align: middle;\n",
              "    }\n",
              "\n",
              "    .dataframe tbody tr th {\n",
              "        vertical-align: top;\n",
              "    }\n",
              "\n",
              "    .dataframe thead th {\n",
              "        text-align: right;\n",
              "    }\n",
              "</style>\n",
              "<table border=\"1\" class=\"dataframe\">\n",
              "  <thead>\n",
              "    <tr style=\"text-align: right;\">\n",
              "      <th></th>\n",
              "      <th>user_id</th>\n",
              "      <th>actual</th>\n",
              "      <th>weighted_recommendation</th>\n",
              "      <th>itemitem_k_2</th>\n",
              "      <th>itemitem_k_3</th>\n",
              "      <th>itemitem_k_4</th>\n",
              "      <th>itemitem_k_5</th>\n",
              "      <th>itemitem_k_6</th>\n",
              "      <th>itemitem_k_7</th>\n",
              "      <th>itemitem_k_8</th>\n",
              "      <th>itemitem_k_9</th>\n",
              "      <th>itemitem_k_10</th>\n",
              "      <th>cosine_k_2</th>\n",
              "      <th>cosine_k_3</th>\n",
              "      <th>cosine_k_4</th>\n",
              "      <th>cosine_k_5</th>\n",
              "      <th>cosine_k_6</th>\n",
              "      <th>cosine_k_7</th>\n",
              "      <th>cosine_k_8</th>\n",
              "      <th>cosine_k_9</th>\n",
              "      <th>cosine_k_10</th>\n",
              "      <th>tfidf_k_2</th>\n",
              "      <th>tfidf_k_3</th>\n",
              "      <th>tfidf_k_4</th>\n",
              "      <th>tfidf_k_5</th>\n",
              "      <th>tfidf_k_6</th>\n",
              "      <th>tfidf_k_7</th>\n",
              "      <th>tfidf_k_8</th>\n",
              "      <th>tfidf_k_9</th>\n",
              "      <th>tfidf_k_10</th>\n",
              "    </tr>\n",
              "  </thead>\n",
              "  <tbody>\n",
              "    <tr>\n",
              "      <th>0</th>\n",
              "      <td>1</td>\n",
              "      <td>[821867, 834484, 856942, 865456, 889248, 90795...</td>\n",
              "      <td>[1091929, 9858736, 15483263, 795649, 43919]</td>\n",
              "      <td>[1082185, 981760, 995242, 1029743, 840361]</td>\n",
              "      <td>[1082185, 981760, 1127831, 995242, 840361]</td>\n",
              "      <td>[1082185, 981760, 1127831, 995242, 1098066]</td>\n",
              "      <td>[1082185, 981760, 1127831, 995242, 840361]</td>\n",
              "      <td>[1082185, 981760, 1127831, 995242, 840361]</td>\n",
              "      <td>[1082185, 981760, 1127831, 995242, 840361]</td>\n",
              "      <td>[1082185, 981760, 995242, 1127831, 840361]</td>\n",
              "      <td>[1082185, 981760, 995242, 1127831, 840361]</td>\n",
              "      <td>[1082185, 981760, 995242, 1127831, 840361]</td>\n",
              "      <td>[1082185, 13671834, 12487387, 1127831, 961554]</td>\n",
              "      <td>[1082185, 13671834, 981760, 12171883, 12487387]</td>\n",
              "      <td>[1082185, 981760, 1127831, 12487387, 13671834]</td>\n",
              "      <td>[1082185, 981760, 1127831, 13671834, 12487387]</td>\n",
              "      <td>[1082185, 981760, 1127831, 1098066, 13671834]</td>\n",
              "      <td>[1082185, 981760, 1127831, 1098066, 961554]</td>\n",
              "      <td>[1082185, 981760, 1127831, 961554, 1098066]</td>\n",
              "      <td>[1082185, 981760, 1127831, 961554, 1098066]</td>\n",
              "      <td>[1082185, 981760, 1127831, 961554, 1098066]</td>\n",
              "      <td>[13671834, 1082185, 12487387, 12523999, 961554]</td>\n",
              "      <td>[1082185, 13671834, 12487387, 12171883, 981760]</td>\n",
              "      <td>[1082185, 13671834, 12487387, 12171883, 981760]</td>\n",
              "      <td>[1082185, 13671834, 12487387, 12171883, 8091337]</td>\n",
              "      <td>[1082185, 13671834, 12487387, 12171883, 981760]</td>\n",
              "      <td>[1082185, 13671834, 12487387, 981760, 12171883]</td>\n",
              "      <td>[1082185, 13671834, 12487387, 12171883, 981760]</td>\n",
              "      <td>[1082185, 13671834, 12487387, 981760, 12171883]</td>\n",
              "      <td>[1082185, 13671834, 12487387, 981760, 12171883]</td>\n",
              "    </tr>\n",
              "    <tr>\n",
              "      <th>1</th>\n",
              "      <td>3</td>\n",
              "      <td>[835476, 851057, 872021, 878302, 879948, 90963...</td>\n",
              "      <td>[369989, 9837109, 887162, 955643, 1903190]</td>\n",
              "      <td>[1082185, 981760, 1098066, 1127831, 826249]</td>\n",
              "      <td>[1082185, 981760, 1098066, 826249, 1127831]</td>\n",
              "      <td>[1082185, 981760, 1098066, 826249, 995242]</td>\n",
              "      <td>[1082185, 981760, 1098066, 826249, 995242]</td>\n",
              "      <td>[1082185, 981760, 1098066, 826249, 995242]</td>\n",
              "      <td>[1082185, 981760, 1098066, 826249, 995242]</td>\n",
              "      <td>[1082185, 981760, 1098066, 826249, 995242]</td>\n",
              "      <td>[1082185, 981760, 1098066, 826249, 995242]</td>\n",
              "      <td>[1082185, 981760, 1098066, 826249, 995242]</td>\n",
              "      <td>[1082185, 1098066, 883404, 1044078, 826249]</td>\n",
              "      <td>[1082185, 1098066, 981760, 826249, 883404]</td>\n",
              "      <td>[1082185, 1098066, 981760, 826249, 883404]</td>\n",
              "      <td>[1082185, 1098066, 981760, 826249, 883404]</td>\n",
              "      <td>[1082185, 981760, 1098066, 826249, 883404]</td>\n",
              "      <td>[1082185, 1098066, 981760, 826249, 883404]</td>\n",
              "      <td>[1082185, 1098066, 981760, 826249, 883404]</td>\n",
              "      <td>[1082185, 981760, 1098066, 826249, 1044078]</td>\n",
              "      <td>[1082185, 1098066, 981760, 826249, 1044078]</td>\n",
              "      <td>[1082185, 1098066, 826249, 883404, 1044078]</td>\n",
              "      <td>[1082185, 1098066, 981760, 883404, 826249]</td>\n",
              "      <td>[1082185, 1098066, 981760, 826249, 883404]</td>\n",
              "      <td>[1082185, 1098066, 981760, 826249, 883404]</td>\n",
              "      <td>[1082185, 1098066, 981760, 826249, 883404]</td>\n",
              "      <td>[1082185, 1098066, 981760, 826249, 1044078]</td>\n",
              "      <td>[1082185, 1098066, 981760, 826249, 1044078]</td>\n",
              "      <td>[1082185, 1098066, 981760, 826249, 883404]</td>\n",
              "      <td>[1082185, 1098066, 981760, 826249, 1044078]</td>\n",
              "    </tr>\n",
              "  </tbody>\n",
              "</table>\n",
              "</div>\n",
              "      <button class=\"colab-df-convert\" onclick=\"convertToInteractive('df-f01b21f5-b8a8-44da-b7b3-6bf5a57334fb')\"\n",
              "              title=\"Convert this dataframe to an interactive table.\"\n",
              "              style=\"display:none;\">\n",
              "        \n",
              "  <svg xmlns=\"http://www.w3.org/2000/svg\" height=\"24px\"viewBox=\"0 0 24 24\"\n",
              "       width=\"24px\">\n",
              "    <path d=\"M0 0h24v24H0V0z\" fill=\"none\"/>\n",
              "    <path d=\"M18.56 5.44l.94 2.06.94-2.06 2.06-.94-2.06-.94-.94-2.06-.94 2.06-2.06.94zm-11 1L8.5 8.5l.94-2.06 2.06-.94-2.06-.94L8.5 2.5l-.94 2.06-2.06.94zm10 10l.94 2.06.94-2.06 2.06-.94-2.06-.94-.94-2.06-.94 2.06-2.06.94z\"/><path d=\"M17.41 7.96l-1.37-1.37c-.4-.4-.92-.59-1.43-.59-.52 0-1.04.2-1.43.59L10.3 9.45l-7.72 7.72c-.78.78-.78 2.05 0 2.83L4 21.41c.39.39.9.59 1.41.59.51 0 1.02-.2 1.41-.59l7.78-7.78 2.81-2.81c.8-.78.8-2.07 0-2.86zM5.41 20L4 18.59l7.72-7.72 1.47 1.35L5.41 20z\"/>\n",
              "  </svg>\n",
              "      </button>\n",
              "      \n",
              "  <style>\n",
              "    .colab-df-container {\n",
              "      display:flex;\n",
              "      flex-wrap:wrap;\n",
              "      gap: 12px;\n",
              "    }\n",
              "\n",
              "    .colab-df-convert {\n",
              "      background-color: #E8F0FE;\n",
              "      border: none;\n",
              "      border-radius: 50%;\n",
              "      cursor: pointer;\n",
              "      display: none;\n",
              "      fill: #1967D2;\n",
              "      height: 32px;\n",
              "      padding: 0 0 0 0;\n",
              "      width: 32px;\n",
              "    }\n",
              "\n",
              "    .colab-df-convert:hover {\n",
              "      background-color: #E2EBFA;\n",
              "      box-shadow: 0px 1px 2px rgba(60, 64, 67, 0.3), 0px 1px 3px 1px rgba(60, 64, 67, 0.15);\n",
              "      fill: #174EA6;\n",
              "    }\n",
              "\n",
              "    [theme=dark] .colab-df-convert {\n",
              "      background-color: #3B4455;\n",
              "      fill: #D2E3FC;\n",
              "    }\n",
              "\n",
              "    [theme=dark] .colab-df-convert:hover {\n",
              "      background-color: #434B5C;\n",
              "      box-shadow: 0px 1px 3px 1px rgba(0, 0, 0, 0.15);\n",
              "      filter: drop-shadow(0px 1px 2px rgba(0, 0, 0, 0.3));\n",
              "      fill: #FFFFFF;\n",
              "    }\n",
              "  </style>\n",
              "\n",
              "      <script>\n",
              "        const buttonEl =\n",
              "          document.querySelector('#df-f01b21f5-b8a8-44da-b7b3-6bf5a57334fb button.colab-df-convert');\n",
              "        buttonEl.style.display =\n",
              "          google.colab.kernel.accessAllowed ? 'block' : 'none';\n",
              "\n",
              "        async function convertToInteractive(key) {\n",
              "          const element = document.querySelector('#df-f01b21f5-b8a8-44da-b7b3-6bf5a57334fb');\n",
              "          const dataTable =\n",
              "            await google.colab.kernel.invokeFunction('convertToInteractive',\n",
              "                                                     [key], {});\n",
              "          if (!dataTable) return;\n",
              "\n",
              "          const docLinkHtml = 'Like what you see? Visit the ' +\n",
              "            '<a target=\"_blank\" href=https://colab.research.google.com/notebooks/data_table.ipynb>data table notebook</a>'\n",
              "            + ' to learn more about interactive tables.';\n",
              "          element.innerHTML = '';\n",
              "          dataTable['output_type'] = 'display_data';\n",
              "          await google.colab.output.renderOutput(dataTable, element);\n",
              "          const docLink = document.createElement('div');\n",
              "          docLink.innerHTML = docLinkHtml;\n",
              "          element.appendChild(docLink);\n",
              "        }\n",
              "      </script>\n",
              "    </div>\n",
              "  </div>\n",
              "  "
            ],
            "text/plain": [
              "   user_id  ...                                       tfidf_k_10\n",
              "0        1  ...  [1082185, 13671834, 12487387, 981760, 12171883]\n",
              "1        3  ...      [1082185, 1098066, 981760, 826249, 1044078]\n",
              "\n",
              "[2 rows x 30 columns]"
            ]
          },
          "metadata": {},
          "execution_count": 26
        }
      ],
      "source": [
        "result.head(2)"
      ]
    }
  ],
  "metadata": {
    "colab": {
      "name": "Lesson_2.ipynb",
      "provenance": []
    },
    "kernelspec": {
      "display_name": "Python 3",
      "language": "python",
      "name": "python3"
    },
    "language_info": {
      "codemirror_mode": {
        "name": "ipython",
        "version": 3
      },
      "file_extension": ".py",
      "mimetype": "text/x-python",
      "name": "python",
      "nbconvert_exporter": "python",
      "pygments_lexer": "ipython3",
      "version": "3.8.5"
    }
  },
  "nbformat": 4,
  "nbformat_minor": 0
}